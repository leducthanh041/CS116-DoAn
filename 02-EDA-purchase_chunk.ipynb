{
 "cells": [
  {
   "cell_type": "code",
   "execution_count": null,
   "id": "843a84cc",
   "metadata": {},
   "outputs": [
    {
     "name": "stdout",
     "output_type": "stream",
     "text": [
      "Requirement already satisfied: polars in c:\\users\\tncn2\\onedrive\\tài liệu\\cs116eda\\cs116-eda-doan\\.venv\\lib\\site-packages (1.34.0)\n",
      "Requirement already satisfied: polars-runtime-32==1.34.0 in c:\\users\\tncn2\\onedrive\\tài liệu\\cs116eda\\cs116-eda-doan\\.venv\\lib\\site-packages (from polars) (1.34.0)\n"
     ]
    }
   ],
   "source": [
    "# !pip install polars"
   ]
  },
  {
   "cell_type": "code",
   "execution_count": 1,
   "id": "15140f36",
   "metadata": {},
   "outputs": [],
   "source": [
    "import os\n",
    "import polars as pl\n",
    "import matplotlib.pyplot as plt\n",
    "import seaborn as sns\n",
    "import numpy as np"
   ]
  },
  {
   "cell_type": "code",
   "execution_count": 2,
   "id": "0629ce62",
   "metadata": {},
   "outputs": [],
   "source": [
    "def read_parquet_by_type(train_path: str):\n",
    "    # Lấy tất cả các file parquet trong thư mục\n",
    "    files = [os.path.join(train_path, f) for f in os.listdir(train_path) if f.endswith('.parquet')]\n",
    "    \n",
    "    # Phân loại các file theo loại tên\n",
    "    user_chunk_files = [file for file in files if 'user_chunk' in file]\n",
    "    purchase_history_chunk_files = [file for file in files if 'purchase_history_daily_chunk' in file]\n",
    "    item_chunk_files = [file for file in files if 'item_chunk' in file]\n",
    "    \n",
    "    # Đọc các file riêng biệt thành DataFrame\n",
    "    user_chunk_df = pl.concat([pl.read_parquet(file) for file in user_chunk_files]) if user_chunk_files else None\n",
    "    purchase_history_chunk_df = pl.concat([pl.read_parquet(file) for file in purchase_history_chunk_files]) if purchase_history_chunk_files else None\n",
    "    item_chunk_df = pl.concat([pl.read_parquet(file) for file in item_chunk_files]) if item_chunk_files else None\n",
    "    \n",
    "    # Trả về một dictionary chứa các DataFrame\n",
    "    return {\n",
    "        \"user_chunk\": user_chunk_df,\n",
    "        \"purchase_history_chunk\": purchase_history_chunk_df,\n",
    "        \"item_chunk\": item_chunk_df\n",
    "    }"
   ]
  },
  {
   "cell_type": "code",
   "execution_count": 3,
   "id": "70d96679",
   "metadata": {},
   "outputs": [],
   "source": [
    "data = read_parquet_by_type(\"C:/Users/tncn2/Downloads/recommendation dataset\")\n",
    "\n",
    "history_df = data[\"purchase_history_chunk\"]\n",
    "# user_df = data[\"user_chunk\"]\n",
    "# item_df = data[\"item_chunk\"]"
   ]
  },
  {
   "cell_type": "code",
   "execution_count": 14,
   "id": "de4d9277",
   "metadata": {},
   "outputs": [
    {
     "name": "stdout",
     "output_type": "stream",
     "text": [
      "History DataFrame:\n"
     ]
    },
    {
     "data": {
      "text/html": [
       "<div><style>\n",
       ".dataframe > thead > tr,\n",
       ".dataframe > tbody > tr {\n",
       "  text-align: right;\n",
       "  white-space: pre-wrap;\n",
       "}\n",
       "</style>\n",
       "<small>shape: (35_729_825, 16)</small><table border=\"1\" class=\"dataframe\"><thead><tr><th>timestamp</th><th>user_id</th><th>item_id</th><th>event_type</th><th>event_value</th><th>price</th><th>date_key</th><th>quantity</th><th>customer_id</th><th>created_date</th><th>updated_date</th><th>channel</th><th>payment</th><th>location</th><th>discount</th><th>is_deleted</th></tr><tr><td>i64</td><td>str</td><td>str</td><td>str</td><td>decimal[38,4]</td><td>decimal[38,4]</td><td>i32</td><td>i32</td><td>i32</td><td>datetime[μs]</td><td>datetime[μs]</td><td>str</td><td>str</td><td>i32</td><td>decimal[38,4]</td><td>bool</td></tr></thead><tbody><tr><td>1735064221</td><td>&quot;ca12702ddf55acaa9fb767e10faaa6…</td><td>&quot;7115000000004&quot;</td><td>&quot;Purchase&quot;</td><td>1.0000</td><td>49000.0000</td><td>20241224</td><td>1</td><td>5254214</td><td>2024-12-24 18:17:01.027</td><td>2024-12-24 18:20:09.453</td><td>&quot;In-Store&quot;</td><td>&quot;VietQR&quot;</td><td>656</td><td>0.0000</td><td>false</td></tr><tr><td>1735068481</td><td>&quot;54314ce86269f4849f9a4c3fc85d94…</td><td>&quot;0029130000030&quot;</td><td>&quot;Purchase&quot;</td><td>1.0000</td><td>69000.0000</td><td>20241224</td><td>1</td><td>7573232</td><td>2024-12-24 19:28:01.870</td><td>2024-12-24 19:28:01.870</td><td>&quot;In-Store&quot;</td><td>&quot;Tiền mặt&quot;</td><td>143</td><td>0.0000</td><td>false</td></tr><tr><td>1735069843</td><td>&quot;4799de4022b58689b2b9fb37122479…</td><td>&quot;3496000000053&quot;</td><td>&quot;Purchase&quot;</td><td>2.0000</td><td>75000.0000</td><td>20241224</td><td>2</td><td>8187418</td><td>2024-12-24 19:50:43.760</td><td>2024-12-24 19:50:43.760</td><td>&quot;In-Store&quot;</td><td>&quot;MoMo&quot;</td><td>213</td><td>0.0000</td><td>false</td></tr><tr><td>1735069779</td><td>&quot;4799de4022b58689b2b9fb37122479…</td><td>&quot;2700000000002&quot;</td><td>&quot;Purchase&quot;</td><td>2.0000</td><td>58500.0000</td><td>20241224</td><td>2</td><td>8187418</td><td>2024-12-24 19:49:39.223</td><td>2024-12-24 19:49:39.223</td><td>&quot;In-Store&quot;</td><td>&quot;MoMo&quot;</td><td>213</td><td>13000.0000</td><td>false</td></tr><tr><td>1735379373</td><td>&quot;3b2423f730815273dfd6f6220b0c5c…</td><td>&quot;0029110000036&quot;</td><td>&quot;Purchase&quot;</td><td>1.0000</td><td>89000.0000</td><td>20241228</td><td>1</td><td>6931560</td><td>2024-12-28 09:49:33.780</td><td>2024-12-28 10:28:49.413</td><td>&quot;Android&quot;</td><td>&quot;MoMo&quot;</td><td>590</td><td>10000.0000</td><td>false</td></tr><tr><td>&hellip;</td><td>&hellip;</td><td>&hellip;</td><td>&hellip;</td><td>&hellip;</td><td>&hellip;</td><td>&hellip;</td><td>&hellip;</td><td>&hellip;</td><td>&hellip;</td><td>&hellip;</td><td>&hellip;</td><td>&hellip;</td><td>&hellip;</td><td>&hellip;</td><td>&hellip;</td></tr><tr><td>1729268913</td><td>&quot;a6fc68430e2654c90a06f64be11a98…</td><td>&quot;1396000000020&quot;</td><td>&quot;Purchase&quot;</td><td>1.0000</td><td>28050.0000</td><td>20241018</td><td>1</td><td>6848354</td><td>2024-10-18 16:28:33.130</td><td>2024-10-18 16:28:33.130</td><td>&quot;In-Store&quot;</td><td>&quot;Tiền mặt&quot;</td><td>446</td><td>4950.0000</td><td>false</td></tr><tr><td>1729345219</td><td>&quot;ac1dddd7c809e0b473d23f36d349eb…</td><td>&quot;0007070000403&quot;</td><td>&quot;Purchase&quot;</td><td>1.0000</td><td>189000.0000</td><td>20241019</td><td>1</td><td>5745481</td><td>2024-10-19 13:40:19.900</td><td>2024-10-19 13:40:19.900</td><td>&quot;iOS&quot;</td><td>&quot;Tiền mặt&quot;</td><td>228</td><td>0.0000</td><td>false</td></tr><tr><td>1729335081</td><td>&quot;191d6a3053c0dfed3a2a79586e0f89…</td><td>&quot;4371000000001&quot;</td><td>&quot;Purchase&quot;</td><td>1.0000</td><td>59000.0000</td><td>20241019</td><td>1</td><td>3307869</td><td>2024-10-19 10:51:21.297</td><td>2024-10-19 10:51:21.317</td><td>&quot;In-Store&quot;</td><td>&quot;Tiền mặt&quot;</td><td>368</td><td>0.0000</td><td>false</td></tr><tr><td>1729326377</td><td>&quot;45d963100d12da60d63793986eae34…</td><td>&quot;0026190000005&quot;</td><td>&quot;Purchase&quot;</td><td>1.0000</td><td>115000.0000</td><td>20241019</td><td>1</td><td>7970167</td><td>2024-10-19 08:26:17.623</td><td>2024-10-19 08:26:17.623</td><td>&quot;In-Store&quot;</td><td>&quot;Tiền mặt&quot;</td><td>192</td><td>0.0000</td><td>false</td></tr><tr><td>1729259118</td><td>&quot;6c117cda48120fe0ab458b4979a381…</td><td>&quot;2679000000002&quot;</td><td>&quot;Purchase&quot;</td><td>2.0000</td><td>326780.3922</td><td>20241018</td><td>2</td><td>7734919</td><td>2024-10-18 13:45:18.860</td><td>2024-10-18 13:45:18.957</td><td>&quot;In-Store&quot;</td><td>&quot;Tiền mặt&quot;</td><td>830</td><td>36439.2156</td><td>false</td></tr></tbody></table></div>"
      ],
      "text/plain": [
       "shape: (35_729_825, 16)\n",
       "┌────────────┬───────────┬───────────┬───────────┬───┬──────────┬──────────┬───────────┬───────────┐\n",
       "│ timestamp  ┆ user_id   ┆ item_id   ┆ event_typ ┆ … ┆ payment  ┆ location ┆ discount  ┆ is_delete │\n",
       "│ ---        ┆ ---       ┆ ---       ┆ e         ┆   ┆ ---      ┆ ---      ┆ ---       ┆ d         │\n",
       "│ i64        ┆ str       ┆ str       ┆ ---       ┆   ┆ str      ┆ i32      ┆ decimal[3 ┆ ---       │\n",
       "│            ┆           ┆           ┆ str       ┆   ┆          ┆          ┆ 8,4]      ┆ bool      │\n",
       "╞════════════╪═══════════╪═══════════╪═══════════╪═══╪══════════╪══════════╪═══════════╪═══════════╡\n",
       "│ 1735064221 ┆ ca12702dd ┆ 711500000 ┆ Purchase  ┆ … ┆ VietQR   ┆ 656      ┆ 0.0000    ┆ false     │\n",
       "│            ┆ f55acaa9f ┆ 0004      ┆           ┆   ┆          ┆          ┆           ┆           │\n",
       "│            ┆ b767e10fa ┆           ┆           ┆   ┆          ┆          ┆           ┆           │\n",
       "│            ┆ aa6…      ┆           ┆           ┆   ┆          ┆          ┆           ┆           │\n",
       "│ 1735068481 ┆ 54314ce86 ┆ 002913000 ┆ Purchase  ┆ … ┆ Tiền mặt ┆ 143      ┆ 0.0000    ┆ false     │\n",
       "│            ┆ 269f4849f ┆ 0030      ┆           ┆   ┆          ┆          ┆           ┆           │\n",
       "│            ┆ 9a4c3fc85 ┆           ┆           ┆   ┆          ┆          ┆           ┆           │\n",
       "│            ┆ d94…      ┆           ┆           ┆   ┆          ┆          ┆           ┆           │\n",
       "│ 1735069843 ┆ 4799de402 ┆ 349600000 ┆ Purchase  ┆ … ┆ MoMo     ┆ 213      ┆ 0.0000    ┆ false     │\n",
       "│            ┆ 2b58689b2 ┆ 0053      ┆           ┆   ┆          ┆          ┆           ┆           │\n",
       "│            ┆ b9fb37122 ┆           ┆           ┆   ┆          ┆          ┆           ┆           │\n",
       "│            ┆ 479…      ┆           ┆           ┆   ┆          ┆          ┆           ┆           │\n",
       "│ 1735069779 ┆ 4799de402 ┆ 270000000 ┆ Purchase  ┆ … ┆ MoMo     ┆ 213      ┆ 13000.000 ┆ false     │\n",
       "│            ┆ 2b58689b2 ┆ 0002      ┆           ┆   ┆          ┆          ┆ 0         ┆           │\n",
       "│            ┆ b9fb37122 ┆           ┆           ┆   ┆          ┆          ┆           ┆           │\n",
       "│            ┆ 479…      ┆           ┆           ┆   ┆          ┆          ┆           ┆           │\n",
       "│ 1735379373 ┆ 3b2423f73 ┆ 002911000 ┆ Purchase  ┆ … ┆ MoMo     ┆ 590      ┆ 10000.000 ┆ false     │\n",
       "│            ┆ 0815273df ┆ 0036      ┆           ┆   ┆          ┆          ┆ 0         ┆           │\n",
       "│            ┆ d6f6220b0 ┆           ┆           ┆   ┆          ┆          ┆           ┆           │\n",
       "│            ┆ c5c…      ┆           ┆           ┆   ┆          ┆          ┆           ┆           │\n",
       "│ …          ┆ …         ┆ …         ┆ …         ┆ … ┆ …        ┆ …        ┆ …         ┆ …         │\n",
       "│ 1729268913 ┆ a6fc68430 ┆ 139600000 ┆ Purchase  ┆ … ┆ Tiền mặt ┆ 446      ┆ 4950.0000 ┆ false     │\n",
       "│            ┆ e2654c90a ┆ 0020      ┆           ┆   ┆          ┆          ┆           ┆           │\n",
       "│            ┆ 06f64be11 ┆           ┆           ┆   ┆          ┆          ┆           ┆           │\n",
       "│            ┆ a98…      ┆           ┆           ┆   ┆          ┆          ┆           ┆           │\n",
       "│ 1729345219 ┆ ac1dddd7c ┆ 000707000 ┆ Purchase  ┆ … ┆ Tiền mặt ┆ 228      ┆ 0.0000    ┆ false     │\n",
       "│            ┆ 809e0b473 ┆ 0403      ┆           ┆   ┆          ┆          ┆           ┆           │\n",
       "│            ┆ d23f36d34 ┆           ┆           ┆   ┆          ┆          ┆           ┆           │\n",
       "│            ┆ 9eb…      ┆           ┆           ┆   ┆          ┆          ┆           ┆           │\n",
       "│ 1729335081 ┆ 191d6a305 ┆ 437100000 ┆ Purchase  ┆ … ┆ Tiền mặt ┆ 368      ┆ 0.0000    ┆ false     │\n",
       "│            ┆ 3c0dfed3a ┆ 0001      ┆           ┆   ┆          ┆          ┆           ┆           │\n",
       "│            ┆ 2a79586e0 ┆           ┆           ┆   ┆          ┆          ┆           ┆           │\n",
       "│            ┆ f89…      ┆           ┆           ┆   ┆          ┆          ┆           ┆           │\n",
       "│ 1729326377 ┆ 45d963100 ┆ 002619000 ┆ Purchase  ┆ … ┆ Tiền mặt ┆ 192      ┆ 0.0000    ┆ false     │\n",
       "│            ┆ d12da60d6 ┆ 0005      ┆           ┆   ┆          ┆          ┆           ┆           │\n",
       "│            ┆ 3793986ea ┆           ┆           ┆   ┆          ┆          ┆           ┆           │\n",
       "│            ┆ e34…      ┆           ┆           ┆   ┆          ┆          ┆           ┆           │\n",
       "│ 1729259118 ┆ 6c117cda4 ┆ 267900000 ┆ Purchase  ┆ … ┆ Tiền mặt ┆ 830      ┆ 36439.215 ┆ false     │\n",
       "│            ┆ 8120fe0ab ┆ 0002      ┆           ┆   ┆          ┆          ┆ 6         ┆           │\n",
       "│            ┆ 458b4979a ┆           ┆           ┆   ┆          ┆          ┆           ┆           │\n",
       "│            ┆ 381…      ┆           ┆           ┆   ┆          ┆          ┆           ┆           │\n",
       "└────────────┴───────────┴───────────┴───────────┴───┴──────────┴──────────┴───────────┴───────────┘"
      ]
     },
     "execution_count": 14,
     "metadata": {},
     "output_type": "execute_result"
    }
   ],
   "source": [
    "print(\"History DataFrame:\")\n",
    "history_df "
   ]
  },
  {
   "cell_type": "code",
   "execution_count": 25,
   "id": "724014ad",
   "metadata": {},
   "outputs": [
    {
     "name": "stdout",
     "output_type": "stream",
     "text": [
      "(35729825, 16)\n"
     ]
    }
   ],
   "source": [
    "print(history_df.shape)"
   ]
  },
  {
   "cell_type": "code",
   "execution_count": 13,
   "id": "1f399916",
   "metadata": {},
   "outputs": [
    {
     "name": "stdout",
     "output_type": "stream",
     "text": [
      "Rows: 35729825\n",
      "Columns: 16\n"
     ]
    }
   ],
   "source": [
    "print(\"Rows:\", history_df.height)\n",
    "print(\"Columns:\", history_df.width)"
   ]
  },
  {
   "cell_type": "code",
   "execution_count": 17,
   "id": "b969b360",
   "metadata": {},
   "outputs": [
    {
     "name": "stdout",
     "output_type": "stream",
     "text": [
      "timestamp                       Int64\n",
      "user_id                         String\n",
      "item_id                         String\n",
      "event_type                      String\n",
      "event_value                     Decimal(precision=38, scale=4)\n",
      "price                           Decimal(precision=38, scale=4)\n",
      "date_key                        Int32\n",
      "quantity                        Int32\n",
      "customer_id                     Int32\n",
      "created_date                    Datetime(time_unit='us', time_zone=None)\n",
      "updated_date                    Datetime(time_unit='us', time_zone=None)\n",
      "channel                         String\n",
      "payment                         String\n",
      "location                        Int32\n",
      "discount                        Decimal(precision=38, scale=4)\n",
      "is_deleted                      Boolean\n"
     ]
    }
   ],
   "source": [
    "for col, dtype in history_df.schema.items():\n",
    "    print(f\"{col:30}  {dtype}\")"
   ]
  },
  {
   "cell_type": "markdown",
   "id": "c509d052",
   "metadata": {},
   "source": [
    "Task 1"
   ]
  },
  {
   "cell_type": "code",
   "execution_count": 24,
   "id": "737f575f",
   "metadata": {},
   "outputs": [
    {
     "name": "stdout",
     "output_type": "stream",
     "text": [
      "shape: (9, 4)\n",
      "┌────────────┬───────────────┬──────────────┬─────────────┐\n",
      "│ statistic  ┆ price         ┆ discount     ┆ quantity    │\n",
      "│ ---        ┆ ---           ┆ ---          ┆ ---         │\n",
      "│ str        ┆ f64           ┆ f64          ┆ f64         │\n",
      "╞════════════╪═══════════════╪══════════════╪═════════════╡\n",
      "│ count      ┆ 3.5729825e7   ┆ 3.5729825e7  ┆ 3.5729825e7 │\n",
      "│ null_count ┆ 0.0           ┆ 0.0          ┆ 0.0         │\n",
      "│ mean       ┆ 169188.742494 ┆ 17235.651914 ┆ 1.508098    │\n",
      "│ std        ┆ 195539.88976  ┆ 46673.708499 ┆ 2.264976    │\n",
      "│ min        ┆ 0.0444        ┆ 0.0          ┆ 1.0         │\n",
      "│ 25%        ┆ 48316.3914    ┆ 0.0          ┆ 1.0         │\n",
      "│ 50%        ┆ 87000.0       ┆ 0.0          ┆ 1.0         │\n",
      "│ 75%        ┆ 244000.0      ┆ 15000.0      ┆ 1.0         │\n",
      "│ max        ┆ 2.099e7       ┆ 7.995e6      ┆ 240.0       │\n",
      "└────────────┴───────────────┴──────────────┴─────────────┘\n"
     ]
    }
   ],
   "source": [
    "print(history_df.select([\"price\", \"discount\", \"quantity\"]).describe())"
   ]
  },
  {
   "cell_type": "code",
   "execution_count": 30,
   "id": "b4dce18d",
   "metadata": {},
   "outputs": [
    {
     "data": {
      "image/png": "[encoded data removed]",
      "text/plain": [
       "<Figure size 640x480 with 1 Axes>"
      ]
     },
     "metadata": {},
     "output_type": "display_data"
    }
   ],
   "source": [
    "plt.hist(history_df[\"price\"].to_numpy(), color=\"skyblue\", edgecolor=\"black\")\n",
    "plt.title(\"Phân bố giá (price)\")\n",
    "plt.xlabel(\"Giá\")\n",
    "plt.ylabel(\"Số lượng\")\n",
    "plt.show()"
   ]
  },
  {
   "cell_type": "code",
   "execution_count": 31,
   "id": "6502c7d7",
   "metadata": {},
   "outputs": [
    {
     "name": "stdout",
     "output_type": "stream",
     "text": [
      "\n",
      " Thống kê cho cột price:\n",
      "shape: (1, 6)\n",
      "┌───────────────┬─────────┬──────────────┬───────────────┬───────────────┬───────┐\n",
      "│ mean          ┆ median  ┆ std          ┆ min           ┆ max           ┆ nulls │\n",
      "│ ---           ┆ ---     ┆ ---          ┆ ---           ┆ ---           ┆ ---   │\n",
      "│ f64           ┆ f64     ┆ f64          ┆ decimal[38,4] ┆ decimal[38,4] ┆ u32   │\n",
      "╞═══════════════╪═════════╪══════════════╪═══════════════╪═══════════════╪═══════╡\n",
      "│ 169188.742494 ┆ 87000.0 ┆ 195539.88976 ┆ 0.0444        ┆ 20990000.0000 ┆ 0     │\n",
      "└───────────────┴─────────┴──────────────┴───────────────┴───────────────┴───────┘\n",
      "\n",
      " Thống kê cho cột discount:\n",
      "shape: (1, 6)\n",
      "┌──────────────┬────────┬──────────────┬───────────────┬───────────────┬───────┐\n",
      "│ mean         ┆ median ┆ std          ┆ min           ┆ max           ┆ nulls │\n",
      "│ ---          ┆ ---    ┆ ---          ┆ ---           ┆ ---           ┆ ---   │\n",
      "│ f64          ┆ f64    ┆ f64          ┆ decimal[38,4] ┆ decimal[38,4] ┆ u32   │\n",
      "╞══════════════╪════════╪══════════════╪═══════════════╪═══════════════╪═══════╡\n",
      "│ 17235.651914 ┆ 0.0    ┆ 46673.708499 ┆ 0.0000        ┆ 7995000.0000  ┆ 0     │\n",
      "└──────────────┴────────┴──────────────┴───────────────┴───────────────┴───────┘\n",
      "\n",
      " Thống kê cho cột event_value:\n",
      "shape: (1, 6)\n",
      "┌──────────┬────────┬──────────┬───────────────┬───────────────┬───────┐\n",
      "│ mean     ┆ median ┆ std      ┆ min           ┆ max           ┆ nulls │\n",
      "│ ---      ┆ ---    ┆ ---      ┆ ---           ┆ ---           ┆ ---   │\n",
      "│ f64      ┆ f64    ┆ f64      ┆ decimal[38,4] ┆ decimal[38,4] ┆ u32   │\n",
      "╞══════════╪════════╪══════════╪═══════════════╪═══════════════╪═══════╡\n",
      "│ 1.508098 ┆ 1.0    ┆ 2.264976 ┆ 1.0000        ┆ 240.0000      ┆ 0     │\n",
      "└──────────┴────────┴──────────┴───────────────┴───────────────┴───────┘\n",
      "\n",
      " Thống kê cho cột quantity:\n",
      "shape: (1, 6)\n",
      "┌──────────┬────────┬──────────┬─────┬─────┬───────┐\n",
      "│ mean     ┆ median ┆ std      ┆ min ┆ max ┆ nulls │\n",
      "│ ---      ┆ ---    ┆ ---      ┆ --- ┆ --- ┆ ---   │\n",
      "│ f64      ┆ f64    ┆ f64      ┆ i32 ┆ i32 ┆ u32   │\n",
      "╞══════════╪════════╪══════════╪═════╪═════╪═══════╡\n",
      "│ 1.508098 ┆ 1.0    ┆ 2.264976 ┆ 1   ┆ 240 ┆ 0     │\n",
      "└──────────┴────────┴──────────┴─────┴─────┴───────┘\n"
     ]
    }
   ],
   "source": [
    "num_cols = [\"price\", \"discount\", \"event_value\", \"quantity\"]\n",
    "\n",
    "for col in num_cols:\n",
    "    print(f\"\\n Thống kê cho cột {col}:\")\n",
    "    print(history_df.select([\n",
    "        pl.col(col).mean().alias(\"mean\"),\n",
    "        pl.col(col).median().alias(\"median\"),\n",
    "        pl.col(col).std().alias(\"std\"),\n",
    "        pl.col(col).min().alias(\"min\"),\n",
    "        pl.col(col).max().alias(\"max\"),\n",
    "        pl.col(col).null_count().alias(\"nulls\"),\n",
    "    ]))"
   ]
  },
  {
   "cell_type": "code",
   "execution_count": 42,
   "id": "fa4127e2",
   "metadata": {},
   "outputs": [
    {
     "name": "stdout",
     "output_type": "stream",
     "text": [
      "Tần suất cho cột 'event_type':\n",
      "shape: (1, 2)\n",
      "┌──────────────────┬──────────────────┐\n",
      "│ event_type_value ┆ event_type_count │\n",
      "│ ---              ┆ ---              │\n",
      "│ str              ┆ u32              │\n",
      "╞══════════════════╪══════════════════╡\n",
      "│ Purchase         ┆ 35729825         │\n",
      "└──────────────────┴──────────────────┘\n",
      "\n",
      "\n",
      "Tần suất cho cột 'channel':\n",
      "shape: (11, 2)\n",
      "┌────────────────┬───────────────┐\n",
      "│ channel_value  ┆ channel_count │\n",
      "│ ---            ┆ ---           │\n",
      "│ str            ┆ u32           │\n",
      "╞════════════════╪═══════════════╡\n",
      "│ In-Store       ┆ 33016358      │\n",
      "│ iOS            ┆ 1397128       │\n",
      "│ SPE            ┆ 602896        │\n",
      "│ Android        ┆ 483885        │\n",
      "│ Web            ┆ 146401        │\n",
      "│ …              ┆ …             │\n",
      "│ CRM Partner    ┆ 16640         │\n",
      "│ Chat           ┆ 2310          │\n",
      "│ Wholesale      ┆ 162           │\n",
      "│ Không xác định ┆ 119           │\n",
      "│ TKS            ┆ 2             │\n",
      "└────────────────┴───────────────┘\n",
      "\n",
      "\n",
      "Tần suất cho cột 'payment':\n",
      "shape: (10, 2)\n",
      "┌────────────────┬───────────────┐\n",
      "│ payment_value  ┆ payment_count │\n",
      "│ ---            ┆ ---           │\n",
      "│ str            ┆ u32           │\n",
      "╞════════════════╪═══════════════╡\n",
      "│ Tiền mặt       ┆ 22454572      │\n",
      "│ VietQR         ┆ 5766946       │\n",
      "│ Cà thẻ         ┆ 4040302       │\n",
      "│ VNPay          ┆ 2080460       │\n",
      "│ MoMo           ┆ 747996        │\n",
      "│ Không xác định ┆ 331952        │\n",
      "│ ZaloPay        ┆ 242983        │\n",
      "│ ShopeePay      ┆ 45508         │\n",
      "│ Kredivo        ┆ 19044         │\n",
      "│ Chuyển khoản   ┆ 62            │\n",
      "└────────────────┴───────────────┘\n",
      "\n",
      "\n",
      "Tần suất cho cột 'location':\n",
      "shape: (765, 2)\n",
      "┌────────────────┬────────────────┐\n",
      "│ location_value ┆ location_count │\n",
      "│ ---            ┆ ---            │\n",
      "│ i32            ┆ u32            │\n",
      "╞════════════════╪════════════════╡\n",
      "│ 645            ┆ 312956         │\n",
      "│ 88             ┆ 201020         │\n",
      "│ 658            ┆ 188013         │\n",
      "│ 724            ┆ 173188         │\n",
      "│ 340            ┆ 160647         │\n",
      "│ …              ┆ …              │\n",
      "│ 1031           ┆ 273            │\n",
      "│ 1035           ┆ 236            │\n",
      "│ 784            ┆ 36             │\n",
      "│ 900            ┆ 2              │\n",
      "│ 455            ┆ 1              │\n",
      "└────────────────┴────────────────┘\n",
      "\n",
      "\n",
      "Tần suất cho cột 'is_deleted':\n",
      "shape: (1, 2)\n",
      "┌──────────────────┬──────────────────┐\n",
      "│ is_deleted_value ┆ is_deleted_count │\n",
      "│ ---              ┆ ---              │\n",
      "│ bool             ┆ u32              │\n",
      "╞══════════════════╪══════════════════╡\n",
      "│ false            ┆ 35729825         │\n",
      "└──────────────────┴──────────────────┘\n",
      "\n",
      "\n"
     ]
    }
   ],
   "source": [
    "# Các cột phân loại đã được liệt kê\n",
    "categorical_columns = [\n",
    "    'event_type', 'channel', 'payment', 'location', 'is_deleted'\n",
    "]\n",
    "\n",
    "# Tạo một danh sách để lưu các DataFrame tần suất của từng cột\n",
    "value_counts_list = []\n",
    "\n",
    "for col in categorical_columns:\n",
    "    # Đếm tần suất cho mỗi cột\n",
    "    value_counts = history_df[col].value_counts(sort=True)\n",
    "    \n",
    "    # Đổi tên các cột để dễ nhận diện\n",
    "    value_counts = value_counts.rename({\"count\": f\"{col}_count\", col: f\"{col}_value\"})\n",
    "    \n",
    "    # Lưu DataFrame vào danh sách\n",
    "    value_counts_list.append(value_counts)\n",
    "    \n",
    "    # Xuất DataFrame cho mỗi cột\n",
    "    print(f\"Tần suất cho cột '{col}':\")\n",
    "    print(value_counts)\n",
    "    print(\"\\n\")"
   ]
  },
  {
   "cell_type": "code",
   "execution_count": 45,
   "id": "0d78e29d",
   "metadata": {},
   "outputs": [
    {
     "name": "stdout",
     "output_type": "stream",
     "text": [
      "Mode của cột 'event_type': Purchase\n",
      "Mode của cột 'channel': In-Store\n",
      "Mode của cột 'payment': Tiền mặt\n",
      "Mode của cột 'location': 645\n",
      "Mode của cột 'is_deleted': False\n"
     ]
    },
    {
     "data": {
      "text/html": [
       "<div><style>\n",
       ".dataframe > thead > tr,\n",
       ".dataframe > tbody > tr {\n",
       "  text-align: right;\n",
       "  white-space: pre-wrap;\n",
       "}\n",
       "</style>\n",
       "<small>shape: (5, 2)</small><table border=\"1\" class=\"dataframe\"><thead><tr><th>Column</th><th>Mode</th></tr><tr><td>str</td><td>str</td></tr></thead><tbody><tr><td>&quot;event_type&quot;</td><td>&quot;Purchase&quot;</td></tr><tr><td>&quot;channel&quot;</td><td>&quot;In-Store&quot;</td></tr><tr><td>&quot;payment&quot;</td><td>&quot;Tiền mặt&quot;</td></tr><tr><td>&quot;location&quot;</td><td>&quot;645&quot;</td></tr><tr><td>&quot;is_deleted&quot;</td><td>&quot;False&quot;</td></tr></tbody></table></div>"
      ],
      "text/plain": [
       "shape: (5, 2)\n",
       "┌────────────┬──────────┐\n",
       "│ Column     ┆ Mode     │\n",
       "│ ---        ┆ ---      │\n",
       "│ str        ┆ str      │\n",
       "╞════════════╪══════════╡\n",
       "│ event_type ┆ Purchase │\n",
       "│ channel    ┆ In-Store │\n",
       "│ payment    ┆ Tiền mặt │\n",
       "│ location   ┆ 645      │\n",
       "│ is_deleted ┆ False    │\n",
       "└────────────┴──────────┘"
      ]
     },
     "execution_count": 45,
     "metadata": {},
     "output_type": "execute_result"
    }
   ],
   "source": [
    "# Các cột phân loại đã được liệt kê\n",
    "categorical_columns = [\n",
    "    'event_type', 'channel', 'payment', 'location', 'is_deleted'\n",
    "]\n",
    "\n",
    "# Tạo một danh sách để lưu các DataFrame thống kê cho từng cột\n",
    "mode_dataframes = []\n",
    "\n",
    "# Tính toán mode cho mỗi cột phân loại\n",
    "for col in categorical_columns:\n",
    "    # Tính giá trị mode (giá trị xuất hiện nhiều nhất) mà không sử dụng .to_pandas()\n",
    "    mode_val = history_df[col].mode()[0]  # mode() trả về một Series, ta lấy giá trị đầu tiên\n",
    "    \n",
    "    # Ép kiểu giá trị mode về dạng string để tránh lỗi khi gộp DataFrame\n",
    "    mode_val = str(mode_val)\n",
    "    \n",
    "    # Tạo một DataFrame cho từng cột chứa mode\n",
    "    mode_df = pl.DataFrame({\n",
    "        \"Column\": [col],\n",
    "        \"Mode\": [mode_val]\n",
    "    })\n",
    "    \n",
    "    # Lưu DataFrame vào danh sách\n",
    "    mode_dataframes.append(mode_df)\n",
    "    \n",
    "    # In từng DataFrame thống kê mode cho cột\n",
    "    print(f\"Mode của cột '{col}': {mode_val}\")\n",
    "\n",
    "# Ghép tất cả các DataFrame mode vào một bảng duy nhất\n",
    "final_mode_df = pl.concat(mode_dataframes, how=\"vertical\")\n",
    "\n",
    "# In kết quả final_mode_df\n",
    "final_mode_df\n"
   ]
  },
  {
   "cell_type": "code",
   "execution_count": 35,
   "id": "c5c32fe9",
   "metadata": {},
   "outputs": [],
   "source": [
    "history_df = history_df.with_columns([\n",
    "    pl.col(col).cast(pl.Float64)\n",
    "    for col, dtype in history_df.schema.items()\n",
    "    if \"Decimal\" in str(dtype)\n",
    "])"
   ]
  },
  {
   "cell_type": "code",
   "execution_count": 7,
   "id": "b9e97b00",
   "metadata": {},
   "outputs": [
    {
     "name": "stdout",
     "output_type": "stream",
     "text": [
      "Ngưỡng 99%: 201432.38682399815\n",
      "Số lượng outlier: 357299\n"
     ]
    }
   ],
   "source": [
    "discount_np = history_df[\"discount\"].cast(pl.Float64).to_numpy()\n",
    "\n",
    "# Tính ngưỡng 99th percentile\n",
    "threshold = np.percentile(discount_np, 99)\n",
    "\n",
    "# Lọc các giá trị vượt ngưỡng (outlier)\n",
    "outliers = history_df.filter(pl.col(\"discount\").cast(pl.Float64) > threshold)\n",
    "\n",
    "print(\"Ngưỡng 99%:\", threshold)\n",
    "print(\"Số lượng outlier:\", outliers.height)"
   ]
  },
  {
   "cell_type": "code",
   "execution_count": 9,
   "id": "314d1895",
   "metadata": {},
   "outputs": [
    {
     "name": "stdout",
     "output_type": "stream",
     "text": [
      "Q1: 0.0\n",
      "Q3: 15000.0\n",
      "IQR: 15000.0\n",
      "Lower bound: -22500.0\n",
      "Upper bound: 37500.0\n",
      "Số lượng outlier (IQR): 4839178\n"
     ]
    }
   ],
   "source": [
    "discount_np = history_df[\"discount\"].cast(pl.Float64).to_numpy()\n",
    "\n",
    "# Tính các giá trị quartile\n",
    "Q1 = np.percentile(discount_np, 25)\n",
    "Q3 = np.percentile(discount_np, 75)\n",
    "IQR = Q3 - Q1\n",
    "\n",
    "# Xác định ngưỡng outlier\n",
    "lower_bound = Q1 - 1.5 * IQR\n",
    "upper_bound = Q3 + 1.5 * IQR\n",
    "\n",
    "# Lọc outliers\n",
    "outliers_iqr = history_df.filter(\n",
    "    (pl.col(\"discount\").cast(pl.Float64) < lower_bound) |\n",
    "    (pl.col(\"discount\").cast(pl.Float64) > upper_bound)\n",
    ")\n",
    "\n",
    "# In kết quả\n",
    "print(f\"Q1: {Q1}\")\n",
    "print(f\"Q3: {Q3}\")\n",
    "print(f\"IQR: {IQR}\")\n",
    "print(f\"Lower bound: {lower_bound}\")\n",
    "print(f\"Upper bound: {upper_bound}\")\n",
    "print(f\"Số lượng outlier (IQR): {outliers_iqr.height}\")"
   ]
  },
  {
   "cell_type": "code",
   "execution_count": 8,
   "id": "baf4790e",
   "metadata": {},
   "outputs": [
    {
     "name": "stdout",
     "output_type": "stream",
     "text": [
      "0.0 7995000.0\n"
     ]
    }
   ],
   "source": [
    "print(history_df[\"discount\"].cast(pl.Float64).min(), \n",
    "      history_df[\"discount\"].cast(pl.Float64).max())"
   ]
  },
  {
   "cell_type": "code",
   "execution_count": 5,
   "id": "631f387f",
   "metadata": {},
   "outputs": [
    {
     "name": "stdout",
     "output_type": "stream",
     "text": [
      "Ngưỡng 99%: 805000.0\n",
      "Số lượng outlier: 347380\n"
     ]
    }
   ],
   "source": [
    "price_np = history_df[\"price\"].cast(pl.Float64).to_numpy()\n",
    "\n",
    "# Tính ngưỡng 99th percentile\n",
    "threshold = np.percentile(price_np, 99)\n",
    "\n",
    "# Lọc outlier\n",
    "outliers = history_df.filter(pl.col(\"price\").cast(pl.Float64) > threshold)\n",
    "\n",
    "print(\"Ngưỡng 99%:\", threshold)\n",
    "print(\"Số lượng outlier:\", outliers.height)"
   ]
  },
  {
   "cell_type": "code",
   "execution_count": 10,
   "id": "c06fd139",
   "metadata": {},
   "outputs": [
    {
     "name": "stdout",
     "output_type": "stream",
     "text": [
      "📊 Thống kê IQR cho cột 'price'\n",
      "Q1 (25%): 48,316.39\n",
      "Q3 (75%): 244,000.00\n",
      "IQR (Q3 - Q1): 195,683.61\n",
      "Ngưỡng dưới (Lower bound): -245,209.02\n",
      "Ngưỡng trên (Upper bound): 537,525.41\n",
      "Số lượng outlier: 2,307,238\n",
      "Tỉ lệ outlier: 6.46%\n"
     ]
    }
   ],
   "source": [
    "price_np = history_df[\"price\"].cast(pl.Float64).to_numpy()\n",
    "\n",
    "# Bước 2: Tính các giá trị phân vị (quartile)\n",
    "Q1 = np.percentile(price_np, 25)\n",
    "Q3 = np.percentile(price_np, 75)\n",
    "IQR = Q3 - Q1\n",
    "\n",
    "# Bước 3: Tính giới hạn phát hiện outlier\n",
    "lower_bound = Q1 - 1.5 * IQR\n",
    "upper_bound = Q3 + 1.5 * IQR\n",
    "\n",
    "# Bước 4: Lọc ra các giá trị outlier\n",
    "outliers_iqr_price = history_df.filter(\n",
    "    (pl.col(\"price\").cast(pl.Float64) < lower_bound) |\n",
    "    (pl.col(\"price\").cast(pl.Float64) > upper_bound)\n",
    ")\n",
    "\n",
    "# Bước 5: In kết quả thống kê\n",
    "print(\"📊 Thống kê IQR cho cột 'price'\")\n",
    "print(f\"Q1 (25%): {Q1:,.2f}\")\n",
    "print(f\"Q3 (75%): {Q3:,.2f}\")\n",
    "print(f\"IQR (Q3 - Q1): {IQR:,.2f}\")\n",
    "print(f\"Ngưỡng dưới (Lower bound): {lower_bound:,.2f}\")\n",
    "print(f\"Ngưỡng trên (Upper bound): {upper_bound:,.2f}\")\n",
    "print(f\"Số lượng outlier: {outliers_iqr_price.height:,}\")\n",
    "print(f\"Tỉ lệ outlier: {outliers_iqr_price.height / history_df.height:.2%}\")"
   ]
  },
  {
   "cell_type": "code",
   "execution_count": 36,
   "id": "78a53bcc",
   "metadata": {},
   "outputs": [
    {
     "data": {
      "image/png": "[encoded data removed]",
      "text/plain": [
       "<Figure size 1000x400 with 2 Axes>"
      ]
     },
     "metadata": {},
     "output_type": "display_data"
    },
    {
     "data": {
      "image/png": "[encoded data removed]",
      "text/plain": [
       "<Figure size 1000x400 with 2 Axes>"
      ]
     },
     "metadata": {},
     "output_type": "display_data"
    },
    {
     "data": {
      "image/png": "[encoded data removed]",
      "text/plain": [
       "<Figure size 1000x400 with 2 Axes>"
      ]
     },
     "metadata": {},
     "output_type": "display_data"
    },
    {
     "data": {
      "image/png": "[encoded data removed]",
      "text/plain": [
       "<Figure size 1000x400 with 2 Axes>"
      ]
     },
     "metadata": {},
     "output_type": "display_data"
    }
   ],
   "source": [
    "for col in num_cols:\n",
    "    plt.figure(figsize=(10,4))\n",
    "\n",
    "    # Histogram theo log\n",
    "    plt.subplot(1,2,1)\n",
    "    sns.histplot(np.log1p(history_df[col].to_numpy()), kde=True, bins=50, color=\"skyblue\")\n",
    "    plt.title(f\"Phân bố log({col})\")\n",
    "    \n",
    "    # Boxplot theo log\n",
    "    plt.subplot(1,2,2)\n",
    "    sns.boxplot(x=np.log1p(history_df[col].to_numpy()), color=\"lightgreen\")\n",
    "    plt.title(f\"Boxplot log({col})\")\n",
    "\n",
    "    plt.show()\n"
   ]
  }
 ],
 "metadata": {
  "kernelspec": {
   "display_name": ".venv",
   "language": "python",
   "name": "python3"
  },
  "language_info": {
   "codemirror_mode": {
    "name": "ipython",
    "version": 3
   },
   "file_extension": ".py",
   "mimetype": "text/x-python",
   "name": "python",
   "nbconvert_exporter": "python",
   "pygments_lexer": "ipython3",
   "version": "3.13.7"
  }
 },
 "nbformat": 4,
 "nbformat_minor": 5
}
