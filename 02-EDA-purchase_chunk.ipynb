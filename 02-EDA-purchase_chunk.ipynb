{
 "cells": [
  {
   "cell_type": "code",
   "execution_count": null,
   "id": "843a84cc",
   "metadata": {},
   "outputs": [
    {
     "name": "stdout",
     "output_type": "stream",
     "text": [
      "Requirement already satisfied: polars in c:\\users\\tncn2\\onedrive\\tài liệu\\cs116eda\\cs116-eda-doan\\.venv\\lib\\site-packages (1.34.0)\n",
      "Requirement already satisfied: polars-runtime-32==1.34.0 in c:\\users\\tncn2\\onedrive\\tài liệu\\cs116eda\\cs116-eda-doan\\.venv\\lib\\site-packages (from polars) (1.34.0)\n"
     ]
    }
   ],
   "source": [
    "# !pip install polars"
   ]
  },
  {
   "cell_type": "markdown",
   "id": "a088dfab",
   "metadata": {},
   "source": [
    "# Import thư viện + Load data"
   ]
  },
  {
   "cell_type": "code",
   "execution_count": 1,
   "id": "15140f36",
   "metadata": {},
   "outputs": [],
   "source": [
    "import os\n",
    "import polars as pl\n",
    "import matplotlib.pyplot as plt\n",
    "import seaborn as sns\n",
    "import numpy as np"
   ]
  },
  {
   "cell_type": "code",
   "execution_count": 2,
   "id": "0629ce62",
   "metadata": {},
   "outputs": [],
   "source": [
    "def read_parquet_by_type(train_path: str):\n",
    "    # Lấy tất cả các file parquet trong thư mục\n",
    "    files = [os.path.join(train_path, f) for f in os.listdir(train_path) if f.endswith('.parquet')]\n",
    "    \n",
    "    # Phân loại các file theo loại tên\n",
    "    user_chunk_files = [file for file in files if 'user_chunk' in file]\n",
    "    purchase_history_chunk_files = [file for file in files if 'purchase_history_daily_chunk' in file]\n",
    "    item_chunk_files = [file for file in files if 'item_chunk' in file]\n",
    "    \n",
    "    # Đọc các file riêng biệt thành DataFrame\n",
    "    user_chunk_df = pl.concat([pl.read_parquet(file) for file in user_chunk_files]) if user_chunk_files else None\n",
    "    purchase_history_chunk_df = pl.concat([pl.read_parquet(file) for file in purchase_history_chunk_files]) if purchase_history_chunk_files else None\n",
    "    item_chunk_df = pl.concat([pl.read_parquet(file) for file in item_chunk_files]) if item_chunk_files else None\n",
    "    \n",
    "    # Trả về một dictionary chứa các DataFrame\n",
    "    return {\n",
    "        \"user_chunk\": user_chunk_df,\n",
    "        \"purchase_history_chunk\": purchase_history_chunk_df,\n",
    "        \"item_chunk\": item_chunk_df\n",
    "    }"
   ]
  },
  {
   "cell_type": "code",
   "execution_count": 3,
   "id": "70d96679",
   "metadata": {},
   "outputs": [],
   "source": [
    "data = read_parquet_by_type(\"C:/Users/tncn2/Downloads/recommendation dataset\")\n",
    "\n",
    "history_df = data[\"purchase_history_chunk\"]\n",
    "# user_df = data[\"user_chunk\"]\n",
    "# item_df = data[\"item_chunk\"]"
   ]
  },
  {
   "cell_type": "code",
   "execution_count": 4,
   "id": "de4d9277",
   "metadata": {},
   "outputs": [
    {
     "name": "stdout",
     "output_type": "stream",
     "text": [
      "History DataFrame:\n"
     ]
    },
    {
     "data": {
      "text/html": [
       "<div><style>\n",
       ".dataframe > thead > tr,\n",
       ".dataframe > tbody > tr {\n",
       "  text-align: right;\n",
       "  white-space: pre-wrap;\n",
       "}\n",
       "</style>\n",
       "<small>shape: (35_729_825, 16)</small><table border=\"1\" class=\"dataframe\"><thead><tr><th>timestamp</th><th>user_id</th><th>item_id</th><th>event_type</th><th>event_value</th><th>price</th><th>date_key</th><th>quantity</th><th>customer_id</th><th>created_date</th><th>updated_date</th><th>channel</th><th>payment</th><th>location</th><th>discount</th><th>is_deleted</th></tr><tr><td>i64</td><td>str</td><td>str</td><td>str</td><td>decimal[38,4]</td><td>decimal[38,4]</td><td>i32</td><td>i32</td><td>i32</td><td>datetime[μs]</td><td>datetime[μs]</td><td>str</td><td>str</td><td>i32</td><td>decimal[38,4]</td><td>bool</td></tr></thead><tbody><tr><td>1735064221</td><td>&quot;ca12702ddf55acaa9fb767e10faaa6…</td><td>&quot;7115000000004&quot;</td><td>&quot;Purchase&quot;</td><td>1.0000</td><td>49000.0000</td><td>20241224</td><td>1</td><td>5254214</td><td>2024-12-24 18:17:01.027</td><td>2024-12-24 18:20:09.453</td><td>&quot;In-Store&quot;</td><td>&quot;VietQR&quot;</td><td>656</td><td>0.0000</td><td>false</td></tr><tr><td>1735068481</td><td>&quot;54314ce86269f4849f9a4c3fc85d94…</td><td>&quot;0029130000030&quot;</td><td>&quot;Purchase&quot;</td><td>1.0000</td><td>69000.0000</td><td>20241224</td><td>1</td><td>7573232</td><td>2024-12-24 19:28:01.870</td><td>2024-12-24 19:28:01.870</td><td>&quot;In-Store&quot;</td><td>&quot;Tiền mặt&quot;</td><td>143</td><td>0.0000</td><td>false</td></tr><tr><td>1735069843</td><td>&quot;4799de4022b58689b2b9fb37122479…</td><td>&quot;3496000000053&quot;</td><td>&quot;Purchase&quot;</td><td>2.0000</td><td>75000.0000</td><td>20241224</td><td>2</td><td>8187418</td><td>2024-12-24 19:50:43.760</td><td>2024-12-24 19:50:43.760</td><td>&quot;In-Store&quot;</td><td>&quot;MoMo&quot;</td><td>213</td><td>0.0000</td><td>false</td></tr><tr><td>1735069779</td><td>&quot;4799de4022b58689b2b9fb37122479…</td><td>&quot;2700000000002&quot;</td><td>&quot;Purchase&quot;</td><td>2.0000</td><td>58500.0000</td><td>20241224</td><td>2</td><td>8187418</td><td>2024-12-24 19:49:39.223</td><td>2024-12-24 19:49:39.223</td><td>&quot;In-Store&quot;</td><td>&quot;MoMo&quot;</td><td>213</td><td>13000.0000</td><td>false</td></tr><tr><td>1735379373</td><td>&quot;3b2423f730815273dfd6f6220b0c5c…</td><td>&quot;0029110000036&quot;</td><td>&quot;Purchase&quot;</td><td>1.0000</td><td>89000.0000</td><td>20241228</td><td>1</td><td>6931560</td><td>2024-12-28 09:49:33.780</td><td>2024-12-28 10:28:49.413</td><td>&quot;Android&quot;</td><td>&quot;MoMo&quot;</td><td>590</td><td>10000.0000</td><td>false</td></tr><tr><td>&hellip;</td><td>&hellip;</td><td>&hellip;</td><td>&hellip;</td><td>&hellip;</td><td>&hellip;</td><td>&hellip;</td><td>&hellip;</td><td>&hellip;</td><td>&hellip;</td><td>&hellip;</td><td>&hellip;</td><td>&hellip;</td><td>&hellip;</td><td>&hellip;</td><td>&hellip;</td></tr><tr><td>1729268913</td><td>&quot;a6fc68430e2654c90a06f64be11a98…</td><td>&quot;1396000000020&quot;</td><td>&quot;Purchase&quot;</td><td>1.0000</td><td>28050.0000</td><td>20241018</td><td>1</td><td>6848354</td><td>2024-10-18 16:28:33.130</td><td>2024-10-18 16:28:33.130</td><td>&quot;In-Store&quot;</td><td>&quot;Tiền mặt&quot;</td><td>446</td><td>4950.0000</td><td>false</td></tr><tr><td>1729345219</td><td>&quot;ac1dddd7c809e0b473d23f36d349eb…</td><td>&quot;0007070000403&quot;</td><td>&quot;Purchase&quot;</td><td>1.0000</td><td>189000.0000</td><td>20241019</td><td>1</td><td>5745481</td><td>2024-10-19 13:40:19.900</td><td>2024-10-19 13:40:19.900</td><td>&quot;iOS&quot;</td><td>&quot;Tiền mặt&quot;</td><td>228</td><td>0.0000</td><td>false</td></tr><tr><td>1729335081</td><td>&quot;191d6a3053c0dfed3a2a79586e0f89…</td><td>&quot;4371000000001&quot;</td><td>&quot;Purchase&quot;</td><td>1.0000</td><td>59000.0000</td><td>20241019</td><td>1</td><td>3307869</td><td>2024-10-19 10:51:21.297</td><td>2024-10-19 10:51:21.317</td><td>&quot;In-Store&quot;</td><td>&quot;Tiền mặt&quot;</td><td>368</td><td>0.0000</td><td>false</td></tr><tr><td>1729326377</td><td>&quot;45d963100d12da60d63793986eae34…</td><td>&quot;0026190000005&quot;</td><td>&quot;Purchase&quot;</td><td>1.0000</td><td>115000.0000</td><td>20241019</td><td>1</td><td>7970167</td><td>2024-10-19 08:26:17.623</td><td>2024-10-19 08:26:17.623</td><td>&quot;In-Store&quot;</td><td>&quot;Tiền mặt&quot;</td><td>192</td><td>0.0000</td><td>false</td></tr><tr><td>1729259118</td><td>&quot;6c117cda48120fe0ab458b4979a381…</td><td>&quot;2679000000002&quot;</td><td>&quot;Purchase&quot;</td><td>2.0000</td><td>326780.3922</td><td>20241018</td><td>2</td><td>7734919</td><td>2024-10-18 13:45:18.860</td><td>2024-10-18 13:45:18.957</td><td>&quot;In-Store&quot;</td><td>&quot;Tiền mặt&quot;</td><td>830</td><td>36439.2156</td><td>false</td></tr></tbody></table></div>"
      ],
      "text/plain": [
       "shape: (35_729_825, 16)\n",
       "┌────────────┬───────────┬───────────┬───────────┬───┬──────────┬──────────┬───────────┬───────────┐\n",
       "│ timestamp  ┆ user_id   ┆ item_id   ┆ event_typ ┆ … ┆ payment  ┆ location ┆ discount  ┆ is_delete │\n",
       "│ ---        ┆ ---       ┆ ---       ┆ e         ┆   ┆ ---      ┆ ---      ┆ ---       ┆ d         │\n",
       "│ i64        ┆ str       ┆ str       ┆ ---       ┆   ┆ str      ┆ i32      ┆ decimal[3 ┆ ---       │\n",
       "│            ┆           ┆           ┆ str       ┆   ┆          ┆          ┆ 8,4]      ┆ bool      │\n",
       "╞════════════╪═══════════╪═══════════╪═══════════╪═══╪══════════╪══════════╪═══════════╪═══════════╡\n",
       "│ 1735064221 ┆ ca12702dd ┆ 711500000 ┆ Purchase  ┆ … ┆ VietQR   ┆ 656      ┆ 0.0000    ┆ false     │\n",
       "│            ┆ f55acaa9f ┆ 0004      ┆           ┆   ┆          ┆          ┆           ┆           │\n",
       "│            ┆ b767e10fa ┆           ┆           ┆   ┆          ┆          ┆           ┆           │\n",
       "│            ┆ aa6…      ┆           ┆           ┆   ┆          ┆          ┆           ┆           │\n",
       "│ 1735068481 ┆ 54314ce86 ┆ 002913000 ┆ Purchase  ┆ … ┆ Tiền mặt ┆ 143      ┆ 0.0000    ┆ false     │\n",
       "│            ┆ 269f4849f ┆ 0030      ┆           ┆   ┆          ┆          ┆           ┆           │\n",
       "│            ┆ 9a4c3fc85 ┆           ┆           ┆   ┆          ┆          ┆           ┆           │\n",
       "│            ┆ d94…      ┆           ┆           ┆   ┆          ┆          ┆           ┆           │\n",
       "│ 1735069843 ┆ 4799de402 ┆ 349600000 ┆ Purchase  ┆ … ┆ MoMo     ┆ 213      ┆ 0.0000    ┆ false     │\n",
       "│            ┆ 2b58689b2 ┆ 0053      ┆           ┆   ┆          ┆          ┆           ┆           │\n",
       "│            ┆ b9fb37122 ┆           ┆           ┆   ┆          ┆          ┆           ┆           │\n",
       "│            ┆ 479…      ┆           ┆           ┆   ┆          ┆          ┆           ┆           │\n",
       "│ 1735069779 ┆ 4799de402 ┆ 270000000 ┆ Purchase  ┆ … ┆ MoMo     ┆ 213      ┆ 13000.000 ┆ false     │\n",
       "│            ┆ 2b58689b2 ┆ 0002      ┆           ┆   ┆          ┆          ┆ 0         ┆           │\n",
       "│            ┆ b9fb37122 ┆           ┆           ┆   ┆          ┆          ┆           ┆           │\n",
       "│            ┆ 479…      ┆           ┆           ┆   ┆          ┆          ┆           ┆           │\n",
       "│ 1735379373 ┆ 3b2423f73 ┆ 002911000 ┆ Purchase  ┆ … ┆ MoMo     ┆ 590      ┆ 10000.000 ┆ false     │\n",
       "│            ┆ 0815273df ┆ 0036      ┆           ┆   ┆          ┆          ┆ 0         ┆           │\n",
       "│            ┆ d6f6220b0 ┆           ┆           ┆   ┆          ┆          ┆           ┆           │\n",
       "│            ┆ c5c…      ┆           ┆           ┆   ┆          ┆          ┆           ┆           │\n",
       "│ …          ┆ …         ┆ …         ┆ …         ┆ … ┆ …        ┆ …        ┆ …         ┆ …         │\n",
       "│ 1729268913 ┆ a6fc68430 ┆ 139600000 ┆ Purchase  ┆ … ┆ Tiền mặt ┆ 446      ┆ 4950.0000 ┆ false     │\n",
       "│            ┆ e2654c90a ┆ 0020      ┆           ┆   ┆          ┆          ┆           ┆           │\n",
       "│            ┆ 06f64be11 ┆           ┆           ┆   ┆          ┆          ┆           ┆           │\n",
       "│            ┆ a98…      ┆           ┆           ┆   ┆          ┆          ┆           ┆           │\n",
       "│ 1729345219 ┆ ac1dddd7c ┆ 000707000 ┆ Purchase  ┆ … ┆ Tiền mặt ┆ 228      ┆ 0.0000    ┆ false     │\n",
       "│            ┆ 809e0b473 ┆ 0403      ┆           ┆   ┆          ┆          ┆           ┆           │\n",
       "│            ┆ d23f36d34 ┆           ┆           ┆   ┆          ┆          ┆           ┆           │\n",
       "│            ┆ 9eb…      ┆           ┆           ┆   ┆          ┆          ┆           ┆           │\n",
       "│ 1729335081 ┆ 191d6a305 ┆ 437100000 ┆ Purchase  ┆ … ┆ Tiền mặt ┆ 368      ┆ 0.0000    ┆ false     │\n",
       "│            ┆ 3c0dfed3a ┆ 0001      ┆           ┆   ┆          ┆          ┆           ┆           │\n",
       "│            ┆ 2a79586e0 ┆           ┆           ┆   ┆          ┆          ┆           ┆           │\n",
       "│            ┆ f89…      ┆           ┆           ┆   ┆          ┆          ┆           ┆           │\n",
       "│ 1729326377 ┆ 45d963100 ┆ 002619000 ┆ Purchase  ┆ … ┆ Tiền mặt ┆ 192      ┆ 0.0000    ┆ false     │\n",
       "│            ┆ d12da60d6 ┆ 0005      ┆           ┆   ┆          ┆          ┆           ┆           │\n",
       "│            ┆ 3793986ea ┆           ┆           ┆   ┆          ┆          ┆           ┆           │\n",
       "│            ┆ e34…      ┆           ┆           ┆   ┆          ┆          ┆           ┆           │\n",
       "│ 1729259118 ┆ 6c117cda4 ┆ 267900000 ┆ Purchase  ┆ … ┆ Tiền mặt ┆ 830      ┆ 36439.215 ┆ false     │\n",
       "│            ┆ 8120fe0ab ┆ 0002      ┆           ┆   ┆          ┆          ┆ 6         ┆           │\n",
       "│            ┆ 458b4979a ┆           ┆           ┆   ┆          ┆          ┆           ┆           │\n",
       "│            ┆ 381…      ┆           ┆           ┆   ┆          ┆          ┆           ┆           │\n",
       "└────────────┴───────────┴───────────┴───────────┴───┴──────────┴──────────┴───────────┴───────────┘"
      ]
     },
     "execution_count": 4,
     "metadata": {},
     "output_type": "execute_result"
    }
   ],
   "source": [
    "print(\"History DataFrame:\")\n",
    "history_df "
   ]
  },
  {
   "cell_type": "code",
   "execution_count": 5,
   "id": "1f399916",
   "metadata": {},
   "outputs": [
    {
     "name": "stdout",
     "output_type": "stream",
     "text": [
      "Rows: 35729825\n",
      "Columns: 16\n"
     ]
    }
   ],
   "source": [
    "print(\"Rows:\", history_df.height)\n",
    "print(\"Columns:\", history_df.width)"
   ]
  },
  {
   "cell_type": "code",
   "execution_count": 17,
   "id": "b969b360",
   "metadata": {},
   "outputs": [
    {
     "name": "stdout",
     "output_type": "stream",
     "text": [
      "timestamp                       Int64\n",
      "user_id                         String\n",
      "item_id                         String\n",
      "event_type                      String\n",
      "event_value                     Decimal(precision=38, scale=4)\n",
      "price                           Decimal(precision=38, scale=4)\n",
      "date_key                        Int32\n",
      "quantity                        Int32\n",
      "customer_id                     Int32\n",
      "created_date                    Datetime(time_unit='us', time_zone=None)\n",
      "updated_date                    Datetime(time_unit='us', time_zone=None)\n",
      "channel                         String\n",
      "payment                         String\n",
      "location                        Int32\n",
      "discount                        Decimal(precision=38, scale=4)\n",
      "is_deleted                      Boolean\n"
     ]
    }
   ],
   "source": [
    "for col, dtype in history_df.schema.items():\n",
    "    print(f\"{col:30}  {dtype}\")"
   ]
  },
  {
   "cell_type": "markdown",
   "id": "c509d052",
   "metadata": {},
   "source": [
    "# Task 1 - Phân tích đơn biến"
   ]
  },
  {
   "cell_type": "markdown",
   "id": "89ee454e",
   "metadata": {},
   "source": [
    "1. Thống kê đơn biến các thuộc tính numerical "
   ]
  },
  {
   "cell_type": "code",
   "execution_count": null,
   "id": "6502c7d7",
   "metadata": {},
   "outputs": [
    {
     "name": "stdout",
     "output_type": "stream",
     "text": [
      "\n",
      " Thống kê cho cột 'price':\n"
     ]
    },
    {
     "name": "stderr",
     "output_type": "stream",
     "text": [
      "C:\\Users\\tncn2\\AppData\\Local\\Temp\\ipykernel_16804\\2298780598.py:22: DeprecationWarning: `pl.count()` is deprecated. Please use `pl.len()` instead.\n",
      "(Deprecated in version 0.20.5)\n",
      "  pl.count().alias(\"total\")\n"
     ]
    },
    {
     "name": "stdout",
     "output_type": "stream",
     "text": [
      "shape: (1, 8)\n",
      "┌────────┬───────────────┬─────────┬──────────────┬──────────────┬──────────────┬───────┬──────────┐\n",
      "│ column ┆ mean          ┆ median  ┆ std          ┆ min          ┆ max          ┆ nulls ┆ total    │\n",
      "│ ---    ┆ ---           ┆ ---     ┆ ---          ┆ ---          ┆ ---          ┆ ---   ┆ ---      │\n",
      "│ str    ┆ f64           ┆ f64     ┆ f64          ┆ decimal[38,4 ┆ decimal[38,4 ┆ u32   ┆ u32      │\n",
      "│        ┆               ┆         ┆              ┆ ]            ┆ ]            ┆       ┆          │\n",
      "╞════════╪═══════════════╪═════════╪══════════════╪══════════════╪══════════════╪═══════╪══════════╡\n",
      "│ price  ┆ 169188.742494 ┆ 87000.0 ┆ 195539.88976 ┆ 0.0444       ┆ 20990000.000 ┆ 0     ┆ 35729825 │\n",
      "│        ┆               ┆         ┆              ┆              ┆ 0            ┆       ┆          │\n",
      "└────────┴───────────────┴─────────┴──────────────┴──────────────┴──────────────┴───────┴──────────┘\n",
      "Đã lưu thống kê của 'price' vào file: ./data/history-chunk/stats\\price_stats.csv\n",
      "\n",
      "\n",
      " Thống kê cho cột 'discount':\n",
      "shape: (1, 8)\n",
      "┌──────────┬──────────────┬────────┬──────────────┬──────────────┬──────────────┬───────┬──────────┐\n",
      "│ column   ┆ mean         ┆ median ┆ std          ┆ min          ┆ max          ┆ nulls ┆ total    │\n",
      "│ ---      ┆ ---          ┆ ---    ┆ ---          ┆ ---          ┆ ---          ┆ ---   ┆ ---      │\n",
      "│ str      ┆ f64          ┆ f64    ┆ f64          ┆ decimal[38,4 ┆ decimal[38,4 ┆ u32   ┆ u32      │\n",
      "│          ┆              ┆        ┆              ┆ ]            ┆ ]            ┆       ┆          │\n",
      "╞══════════╪══════════════╪════════╪══════════════╪══════════════╪══════════════╪═══════╪══════════╡\n",
      "│ discount ┆ 17235.651914 ┆ 0.0    ┆ 46673.708499 ┆ 0.0000       ┆ 7995000.0000 ┆ 0     ┆ 35729825 │\n",
      "└──────────┴──────────────┴────────┴──────────────┴──────────────┴──────────────┴───────┴──────────┘\n",
      "Đã lưu thống kê của 'discount' vào file: ./data/history-chunk/stats\\discount_stats.csv\n",
      "\n",
      "\n",
      " Thống kê cho cột 'event_value':\n",
      "shape: (1, 8)\n",
      "┌─────────────┬──────────┬────────┬──────────┬───────────────┬───────────────┬───────┬──────────┐\n",
      "│ column      ┆ mean     ┆ median ┆ std      ┆ min           ┆ max           ┆ nulls ┆ total    │\n",
      "│ ---         ┆ ---      ┆ ---    ┆ ---      ┆ ---           ┆ ---           ┆ ---   ┆ ---      │\n",
      "│ str         ┆ f64      ┆ f64    ┆ f64      ┆ decimal[38,4] ┆ decimal[38,4] ┆ u32   ┆ u32      │\n",
      "╞═════════════╪══════════╪════════╪══════════╪═══════════════╪═══════════════╪═══════╪══════════╡\n",
      "│ event_value ┆ 1.508098 ┆ 1.0    ┆ 2.264976 ┆ 1.0000        ┆ 240.0000      ┆ 0     ┆ 35729825 │\n",
      "└─────────────┴──────────┴────────┴──────────┴───────────────┴───────────────┴───────┴──────────┘\n",
      "Đã lưu thống kê của 'event_value' vào file: ./data/history-chunk/stats\\event_value_stats.csv\n",
      "\n",
      "\n",
      " Thống kê cho cột 'quantity':\n",
      "shape: (1, 8)\n",
      "┌──────────┬──────────┬────────┬──────────┬─────┬─────┬───────┬──────────┐\n",
      "│ column   ┆ mean     ┆ median ┆ std      ┆ min ┆ max ┆ nulls ┆ total    │\n",
      "│ ---      ┆ ---      ┆ ---    ┆ ---      ┆ --- ┆ --- ┆ ---   ┆ ---      │\n",
      "│ str      ┆ f64      ┆ f64    ┆ f64      ┆ i32 ┆ i32 ┆ u32   ┆ u32      │\n",
      "╞══════════╪══════════╪════════╪══════════╪═════╪═════╪═══════╪══════════╡\n",
      "│ quantity ┆ 1.508098 ┆ 1.0    ┆ 2.264976 ┆ 1   ┆ 240 ┆ 0     ┆ 35729825 │\n",
      "└──────────┴──────────┴────────┴──────────┴─────┴─────┴───────┴──────────┘\n",
      "Đã lưu thống kê của 'quantity' vào file: ./data/history-chunk/stats\\quantity_stats.csv\n",
      "\n"
     ]
    }
   ],
   "source": [
    "output_folder = './data/history-chunk/stats'\n",
    "if not os.path.exists(output_folder):\n",
    "    os.makedirs(output_folder)\n",
    "\n",
    "# Danh sách các cột numeric\n",
    "num_cols = [\"price\", \"discount\", \"event_value\", \"quantity\"]\n",
    "\n",
    "# Danh sách để lưu tất cả DataFrame thống kê\n",
    "numeric_stats_list = []\n",
    "\n",
    "for col in num_cols:\n",
    "    print(f\"\\n Thống kê cho cột '{col}':\")\n",
    "    \n",
    "    # Tính các thống kê cơ bản\n",
    "    stats = history_df.select([\n",
    "        pl.col(col).mean().alias(\"mean\"),\n",
    "        pl.col(col).median().alias(\"median\"),\n",
    "        pl.col(col).std().alias(\"std\"),\n",
    "        pl.col(col).min().alias(\"min\"),\n",
    "        pl.col(col).max().alias(\"max\"),\n",
    "        pl.col(col).null_count().alias(\"nulls\"),\n",
    "        pl.count().alias(\"total\")\n",
    "    ])\n",
    "    \n",
    "    # Thêm cột tên cho dễ nhận biết\n",
    "    stats = stats.with_columns([\n",
    "        pl.lit(col).alias(\"column\")\n",
    "    ]).select([\"column\", \"mean\", \"median\", \"std\", \"min\", \"max\", \"nulls\", \"total\"])\n",
    "    \n",
    "    # Lưu từng bảng vào danh sách tổng hợp\n",
    "    numeric_stats_list.append(stats)\n",
    "    \n",
    "    # In ra bảng thống kê cho từng cột\n",
    "    print(stats)\n",
    "    \n",
    "    # Lưu từng cột vào file CSV riêng\n",
    "    file_path = os.path.join(output_folder, f\"{col}_stats.csv\")\n",
    "    stats.write_csv(file_path)\n",
    "    print(f\"Đã lưu thống kê của '{col}' vào file: {file_path}\\n\")\n"
   ]
  },
  {
   "cell_type": "markdown",
   "id": "538b1b62",
   "metadata": {},
   "source": [
    "2. Thống kê tần suất các thuộc tính categorical "
   ]
  },
  {
   "cell_type": "code",
   "execution_count": 8,
   "id": "fa4127e2",
   "metadata": {},
   "outputs": [
    {
     "name": "stdout",
     "output_type": "stream",
     "text": [
      "Tần suất cho cột 'event_type':\n",
      "shape: (1, 2)\n",
      "┌──────────────────┬──────────────────┐\n",
      "│ event_type_value ┆ event_type_count │\n",
      "│ ---              ┆ ---              │\n",
      "│ str              ┆ u32              │\n",
      "╞══════════════════╪══════════════════╡\n",
      "│ Purchase         ┆ 35729825         │\n",
      "└──────────────────┴──────────────────┘\n",
      "✅ Đã lưu vào file: ./data/history-chunk/counts\\event_type_value_counts.csv\n",
      "\n",
      "Tần suất cho cột 'channel':\n",
      "shape: (11, 2)\n",
      "┌────────────────┬───────────────┐\n",
      "│ channel_value  ┆ channel_count │\n",
      "│ ---            ┆ ---           │\n",
      "│ str            ┆ u32           │\n",
      "╞════════════════╪═══════════════╡\n",
      "│ In-Store       ┆ 33016358      │\n",
      "│ iOS            ┆ 1397128       │\n",
      "│ SPE            ┆ 602896        │\n",
      "│ Android        ┆ 483885        │\n",
      "│ Web            ┆ 146401        │\n",
      "│ …              ┆ …             │\n",
      "│ CRM Partner    ┆ 16640         │\n",
      "│ Chat           ┆ 2310          │\n",
      "│ Wholesale      ┆ 162           │\n",
      "│ Không xác định ┆ 119           │\n",
      "│ TKS            ┆ 2             │\n",
      "└────────────────┴───────────────┘\n",
      "✅ Đã lưu vào file: ./data/history-chunk/counts\\channel_value_counts.csv\n",
      "\n",
      "Tần suất cho cột 'payment':\n",
      "shape: (10, 2)\n",
      "┌────────────────┬───────────────┐\n",
      "│ payment_value  ┆ payment_count │\n",
      "│ ---            ┆ ---           │\n",
      "│ str            ┆ u32           │\n",
      "╞════════════════╪═══════════════╡\n",
      "│ Tiền mặt       ┆ 22454572      │\n",
      "│ VietQR         ┆ 5766946       │\n",
      "│ Cà thẻ         ┆ 4040302       │\n",
      "│ VNPay          ┆ 2080460       │\n",
      "│ MoMo           ┆ 747996        │\n",
      "│ Không xác định ┆ 331952        │\n",
      "│ ZaloPay        ┆ 242983        │\n",
      "│ ShopeePay      ┆ 45508         │\n",
      "│ Kredivo        ┆ 19044         │\n",
      "│ Chuyển khoản   ┆ 62            │\n",
      "└────────────────┴───────────────┘\n",
      "✅ Đã lưu vào file: ./data/history-chunk/counts\\payment_value_counts.csv\n",
      "\n",
      "Tần suất cho cột 'location':\n",
      "shape: (765, 2)\n",
      "┌────────────────┬────────────────┐\n",
      "│ location_value ┆ location_count │\n",
      "│ ---            ┆ ---            │\n",
      "│ i32            ┆ u32            │\n",
      "╞════════════════╪════════════════╡\n",
      "│ 645            ┆ 312956         │\n",
      "│ 88             ┆ 201020         │\n",
      "│ 658            ┆ 188013         │\n",
      "│ 724            ┆ 173188         │\n",
      "│ 340            ┆ 160647         │\n",
      "│ …              ┆ …              │\n",
      "│ 1031           ┆ 273            │\n",
      "│ 1035           ┆ 236            │\n",
      "│ 784            ┆ 36             │\n",
      "│ 900            ┆ 2              │\n",
      "│ 455            ┆ 1              │\n",
      "└────────────────┴────────────────┘\n",
      "✅ Đã lưu vào file: ./data/history-chunk/counts\\location_value_counts.csv\n",
      "\n",
      "Tần suất cho cột 'is_deleted':\n",
      "shape: (1, 2)\n",
      "┌──────────────────┬──────────────────┐\n",
      "│ is_deleted_value ┆ is_deleted_count │\n",
      "│ ---              ┆ ---              │\n",
      "│ bool             ┆ u32              │\n",
      "╞══════════════════╪══════════════════╡\n",
      "│ false            ┆ 35729825         │\n",
      "└──────────────────┴──────────────────┘\n",
      "✅ Đã lưu vào file: ./data/history-chunk/counts\\is_deleted_value_counts.csv\n",
      "\n",
      "Tần suất cho cột 'created_date':\n",
      "shape: (16_158_446, 2)\n",
      "┌─────────────────────────┬────────────────────┐\n",
      "│ created_date_value      ┆ created_date_count │\n",
      "│ ---                     ┆ ---                │\n",
      "│ datetime[μs]            ┆ u32                │\n",
      "╞═════════════════════════╪════════════════════╡\n",
      "│ 2024-06-20 10:01:45.733 ┆ 110                │\n",
      "│ 2024-07-31 17:25:13.423 ┆ 97                 │\n",
      "│ 2024-11-18 21:49:50.110 ┆ 94                 │\n",
      "│ 2024-02-22 20:11:56.407 ┆ 87                 │\n",
      "│ 2024-05-19 13:08:36.640 ┆ 82                 │\n",
      "│ …                       ┆ …                  │\n",
      "│ 2024-10-18 16:40:19.740 ┆ 1                  │\n",
      "│ 2024-10-19 11:26:09.013 ┆ 1                  │\n",
      "│ 2024-10-18 20:05:36.663 ┆ 1                  │\n",
      "│ 2024-10-18 14:12:55.400 ┆ 1                  │\n",
      "│ 2024-10-18 14:51:05.843 ┆ 1                  │\n",
      "└─────────────────────────┴────────────────────┘\n",
      "✅ Đã lưu vào file: ./data/history-chunk/counts\\created_date_value_counts.csv\n",
      "\n",
      "Tần suất cho cột 'updated_date':\n",
      "shape: (16_138_663, 2)\n",
      "┌─────────────────────────┬────────────────────┐\n",
      "│ updated_date_value      ┆ updated_date_count │\n",
      "│ ---                     ┆ ---                │\n",
      "│ datetime[μs]            ┆ u32                │\n",
      "╞═════════════════════════╪════════════════════╡\n",
      "│ 2024-02-05 07:08:29.130 ┆ 839                │\n",
      "│ 2024-03-18 13:54:49.270 ┆ 811                │\n",
      "│ 2024-02-06 07:00:26.570 ┆ 592                │\n",
      "│ 2024-05-26 22:53:05.350 ┆ 581                │\n",
      "│ 2024-07-01 08:39:22.903 ┆ 577                │\n",
      "│ …                       ┆ …                  │\n",
      "│ 2024-10-18 16:40:19.740 ┆ 1                  │\n",
      "│ 2024-10-19 11:26:09.013 ┆ 1                  │\n",
      "│ 2024-10-18 20:05:36.663 ┆ 1                  │\n",
      "│ 2024-10-18 14:12:57.233 ┆ 1                  │\n",
      "│ 2024-10-18 14:51:05.843 ┆ 1                  │\n",
      "└─────────────────────────┴────────────────────┘\n",
      "✅ Đã lưu vào file: ./data/history-chunk/counts\\updated_date_value_counts.csv\n",
      "\n",
      "Tần suất cho cột 'customer_id':\n",
      "shape: (2_442_306, 2)\n",
      "┌───────────────────┬───────────────────┐\n",
      "│ customer_id_value ┆ customer_id_count │\n",
      "│ ---               ┆ ---               │\n",
      "│ i32               ┆ u32               │\n",
      "╞═══════════════════╪═══════════════════╡\n",
      "│ 5040968           ┆ 893               │\n",
      "│ 2383563           ┆ 838               │\n",
      "│ 2251698           ┆ 793               │\n",
      "│ 3519532           ┆ 779               │\n",
      "│ 6338179           ┆ 776               │\n",
      "│ …                 ┆ …                 │\n",
      "│ 6873161           ┆ 1                 │\n",
      "│ 7970097           ┆ 1                 │\n",
      "│ 7970556           ┆ 1                 │\n",
      "│ 7969501           ┆ 1                 │\n",
      "│ 7971284           ┆ 1                 │\n",
      "└───────────────────┴───────────────────┘\n",
      "✅ Đã lưu vào file: ./data/history-chunk/counts\\customer_id_value_counts.csv\n",
      "\n",
      "Tần suất cho cột 'user_id':\n",
      "shape: (2_442_306, 2)\n",
      "┌─────────────────────────────────┬───────────────┐\n",
      "│ user_id_value                   ┆ user_id_count │\n",
      "│ ---                             ┆ ---           │\n",
      "│ str                             ┆ u32           │\n",
      "╞═════════════════════════════════╪═══════════════╡\n",
      "│ 7f1ad828d8fd0bf64642908060fe5c… ┆ 893           │\n",
      "│ b6d309d61deb6bd8691562b64d629e… ┆ 838           │\n",
      "│ ec44b0821fc75180c9d7da38ec3095… ┆ 793           │\n",
      "│ 0c81f44235a594fc21b7836b594785… ┆ 779           │\n",
      "│ 298e48063d145d09c704170bde7fd9… ┆ 776           │\n",
      "│ …                               ┆ …             │\n",
      "│ 1f2465ef450eb4f4b769e6f1c9ba9d… ┆ 1             │\n",
      "│ 45652c255189c01214d01862076923… ┆ 1             │\n",
      "│ 82ebc608835892448a839f905ea95a… ┆ 1             │\n",
      "│ 05eee7cb549996f243e7f8f9f225c8… ┆ 1             │\n",
      "│ 33bb5b97cdcccff90764d1e3df923f… ┆ 1             │\n",
      "└─────────────────────────────────┴───────────────┘\n",
      "✅ Đã lưu vào file: ./data/history-chunk/counts\\user_id_value_counts.csv\n",
      "\n",
      "Tần suất cho cột 'timestamp':\n",
      "shape: (10_250_864, 2)\n",
      "┌─────────────────┬─────────────────┐\n",
      "│ timestamp_value ┆ timestamp_count │\n",
      "│ ---             ┆ ---             │\n",
      "│ i64             ┆ u32             │\n",
      "╞═════════════════╪═════════════════╡\n",
      "│ 1718877705      ┆ 110             │\n",
      "│ 1731317879      ┆ 99              │\n",
      "│ 1722446713      ┆ 97              │\n",
      "│ 1731966590      ┆ 94              │\n",
      "│ 1708632716      ┆ 89              │\n",
      "│ …               ┆ …               │\n",
      "│ 1729323028      ┆ 1               │\n",
      "│ 1729283060      ┆ 1               │\n",
      "│ 1729286954      ┆ 1               │\n",
      "│ 1729287311      ┆ 1               │\n",
      "│ 1729260775      ┆ 1               │\n",
      "└─────────────────┴─────────────────┘\n",
      "✅ Đã lưu vào file: ./data/history-chunk/counts\\timestamp_value_counts.csv\n",
      "\n"
     ]
    }
   ],
   "source": [
    "output_folder = './data/history-chunk/counts'\n",
    "if not os.path.exists(output_folder):\n",
    "    os.makedirs(output_folder)\n",
    "\n",
    "# Các cột phân loại\n",
    "categorical_columns = [\n",
    "    'event_type', 'channel', 'payment', 'location', 'is_deleted',\n",
    "    'created_date', 'updated_date', 'customer_id', 'user_id', 'timestamp'\n",
    "]\n",
    "\n",
    "# Danh sách để lưu các DataFrame tần suất\n",
    "value_counts_list = []\n",
    "\n",
    "# Duyệt từng cột\n",
    "for col in categorical_columns:\n",
    "    # Đếm tần suất xuất hiện của mỗi giá trị duy nhất\n",
    "    value_counts = history_df[col].value_counts(sort=True)\n",
    "    \n",
    "    # Đổi tên cột cho rõ ràng\n",
    "    value_counts = value_counts.rename({\n",
    "        \"count\": f\"{col}_count\",\n",
    "        col: f\"{col}_value\"\n",
    "    })\n",
    "    \n",
    "    # Lưu DataFrame vào danh sách\n",
    "    value_counts_list.append(value_counts)\n",
    "    \n",
    "    # Lưu ra file CSV riêng cho từng cột\n",
    "    file_path = os.path.join(output_folder, f\"{col}_value_counts.csv\")\n",
    "    value_counts.write_csv(file_path)\n",
    "    \n",
    "    # In kết quả\n",
    "    print(f\"Tần suất cho cột '{col}':\")\n",
    "    print(value_counts)\n",
    "    print(f\"✅ Đã lưu vào file: {file_path}\\n\")"
   ]
  },
  {
   "cell_type": "markdown",
   "id": "fe7f4694",
   "metadata": {},
   "source": [
    "- Mode của các thuộc tính categorical"
   ]
  },
  {
   "cell_type": "code",
   "execution_count": 20,
   "id": "0d78e29d",
   "metadata": {},
   "outputs": [
    {
     "name": "stdout",
     "output_type": "stream",
     "text": [
      "Mode của cột 'event_type': Purchase\n",
      "Mode của cột 'channel': In-Store\n",
      "Mode của cột 'payment': Tiền mặt\n",
      "Mode của cột 'location': 645\n",
      "Mode của cột 'is_deleted': False\n",
      "Mode của cột 'created_date': 2024-06-20 10:01:45.733000\n",
      "Mode của cột 'updated_date': 2024-02-05 07:08:29.130000\n",
      "Mode của cột 'customer_id': 5040968\n",
      "Mode của cột 'user_id': 7f1ad828d8fd0bf64642908060fe5cbdaa5ace25fbf643ffd729f0f1c8812c33\n",
      "Mode của cột 'timestamp': 1718877705\n",
      "\n",
      "Đã lưu file tổng hợp mode cho tất cả cột vào: ./data/history-chunk/mode\\categorical_mode_summary.csv\n"
     ]
    }
   ],
   "source": [
    "output_folder = './data/history-chunk/mode'\n",
    "if not os.path.exists(output_folder):\n",
    "    os.makedirs(output_folder)\n",
    "\n",
    "# Các cột phân loại\n",
    "categorical_columns = [\n",
    "    'event_type', 'channel', 'payment', 'location', 'is_deleted',\n",
    "    'created_date', 'updated_date', 'customer_id', 'user_id', 'timestamp'\n",
    "]\n",
    "\n",
    "# Danh sách để lưu DataFrame từng cột\n",
    "mode_dataframes = []\n",
    "\n",
    "# Tính mode cho mỗi cột\n",
    "for col in categorical_columns:\n",
    "    # Nếu là datetime thì cast sang string để tránh lỗi\n",
    "    if history_df[col].dtype == pl.Datetime:\n",
    "        mode_val = history_df[col].cast(pl.Utf8).mode()[0]\n",
    "    else:\n",
    "        mode_val = history_df[col].mode()[0]\n",
    "    \n",
    "    # Ép kiểu về string\n",
    "    mode_val = str(mode_val)\n",
    "    \n",
    "    # Tạo DataFrame lưu tên cột + mode\n",
    "    mode_df = pl.DataFrame({\n",
    "        \"Column\": [col],\n",
    "        \"Mode\": [mode_val]\n",
    "    })\n",
    "    \n",
    "    mode_dataframes.append(mode_df)\n",
    "    print(f\"Mode của cột '{col}': {mode_val}\")\n",
    "\n",
    "# Gộp tất cả DataFrame lại thành một bảng duy nhất\n",
    "final_mode_df = pl.concat(mode_dataframes, how=\"vertical\")\n",
    "\n",
    "# Lưu bảng mode tổng hợp ra một file CSV\n",
    "final_file_path = os.path.join(output_folder, \"categorical_mode_summary.csv\")\n",
    "final_mode_df.write_csv(final_file_path)\n",
    "\n",
    "print(f\"\\nĐã lưu file tổng hợp mode cho tất cả cột vào: {final_file_path}\")"
   ]
  },
  {
   "cell_type": "code",
   "execution_count": 11,
   "id": "c5c32fe9",
   "metadata": {},
   "outputs": [],
   "source": [
    "history_df = history_df.with_columns([\n",
    "    pl.col(col).cast(pl.Float64)\n",
    "    for col, dtype in history_df.schema.items()\n",
    "    if \"Decimal\" in str(dtype)\n",
    "])"
   ]
  },
  {
   "cell_type": "code",
   "execution_count": 5,
   "id": "631f387f",
   "metadata": {},
   "outputs": [
    {
     "name": "stdout",
     "output_type": "stream",
     "text": [
      "Ngưỡng 99%: 805000.0\n",
      "Số lượng outlier: 347380\n"
     ]
    }
   ],
   "source": [
    "price_np = history_df[\"price\"].cast(pl.Float64).to_numpy()\n",
    "\n",
    "# Tính ngưỡng 99th percentile\n",
    "threshold = np.percentile(price_np, 99)\n",
    "\n",
    "# Lọc outlier\n",
    "outliers = history_df.filter(pl.col(\"price\").cast(pl.Float64) > threshold)\n",
    "\n",
    "print(\"Ngưỡng 99%:\", threshold)\n",
    "print(\"Số lượng outlier:\", outliers.height)"
   ]
  },
  {
   "cell_type": "code",
   "execution_count": 12,
   "id": "c06fd139",
   "metadata": {},
   "outputs": [
    {
     "name": "stdout",
     "output_type": "stream",
     "text": [
      "Thống kê IQR cho cột 'price'\n",
      "Q1 (25%): 48,316.39\n",
      "Q3 (75%): 244,000.00\n",
      "IQR (Q3 - Q1): 195,683.61\n",
      "Ngưỡng dưới (Lower bound): -245,209.02\n",
      "Ngưỡng trên (Upper bound): 537,525.41\n",
      "Số lượng outlier: 2,307,238\n",
      "Tỉ lệ outlier: 6.46%\n"
     ]
    }
   ],
   "source": [
    "price_np = history_df[\"price\"].cast(pl.Float64).to_numpy()\n",
    "\n",
    "# Bước 2: Tính các giá trị phân vị (quartile)\n",
    "Q1 = np.percentile(price_np, 25)\n",
    "Q3 = np.percentile(price_np, 75)\n",
    "IQR = Q3 - Q1\n",
    "\n",
    "# Bước 3: Tính giới hạn phát hiện outlier\n",
    "lower_bound = Q1 - 1.5 * IQR\n",
    "upper_bound = Q3 + 1.5 * IQR\n",
    "\n",
    "# Bước 4: Lọc ra các giá trị outlier\n",
    "outliers_iqr_price = history_df.filter(\n",
    "    (pl.col(\"price\").cast(pl.Float64) < lower_bound) |\n",
    "    (pl.col(\"price\").cast(pl.Float64) > upper_bound)\n",
    ")\n",
    "\n",
    "# Bước 5: In kết quả thống kê\n",
    "print(\"Thống kê IQR cho cột 'price'\")\n",
    "print(f\"Q1 (25%): {Q1:,.2f}\")\n",
    "print(f\"Q3 (75%): {Q3:,.2f}\")\n",
    "print(f\"IQR (Q3 - Q1): {IQR:,.2f}\")\n",
    "print(f\"Ngưỡng dưới (Lower bound): {lower_bound:,.2f}\")\n",
    "print(f\"Ngưỡng trên (Upper bound): {upper_bound:,.2f}\")\n",
    "print(f\"Số lượng outlier: {outliers_iqr_price.height:,}\")\n",
    "print(f\"Tỉ lệ outlier: {outliers_iqr_price.height / history_df.height:.2%}\")"
   ]
  },
  {
   "cell_type": "code",
   "execution_count": 37,
   "id": "7e101926",
   "metadata": {},
   "outputs": [
    {
     "name": "stdout",
     "output_type": "stream",
     "text": [
      "✅ Summary CSV: ./images/history-chunk\\orders_per_customer_summary.csv\n"
     ]
    }
   ],
   "source": [
    "outdir = \"./images/history-chunk\"\n",
    "os.makedirs(outdir, exist_ok=True)\n",
    "\n",
    "# 1) số đơn/khách\n",
    "orders_per_cust = (\n",
    "    history_df\n",
    "    .select(\"customer_id\")\n",
    "    .drop_nulls()\n",
    "    .group_by(\"customer_id\")\n",
    "    .len()\n",
    "    .rename({\"len\": \"n_orders\"})\n",
    ")\n",
    "\n",
    "# 2) thống kê nhanh & lưu CSV\n",
    "summary = orders_per_cust.select([\n",
    "    pl.len().alias(\"n_customers\"),\n",
    "    pl.col(\"n_orders\").sum().alias(\"total_orders\"),\n",
    "    pl.col(\"n_orders\").mean().alias(\"avg_orders_per_customer\"),\n",
    "    pl.col(\"n_orders\").median().alias(\"median_orders\"),\n",
    "    pl.col(\"n_orders\").quantile(0.9).alias(\"p90\"),\n",
    "    pl.col(\"n_orders\").quantile(0.99).alias(\"p99\"),\n",
    "    pl.col(\"n_orders\").max().alias(\"max_orders\"),\n",
    "])\n",
    "summary_csv = os.path.join(outdir, \"orders_per_customer_summary.csv\")\n",
    "summary.write_csv(summary_csv)\n",
    "print(\"✅ Summary CSV:\", summary_csv)"
   ]
  },
  {
   "cell_type": "markdown",
   "id": "5b4684c1",
   "metadata": {},
   "source": [
    "## Visualize đơn biến"
   ]
  },
  {
   "cell_type": "markdown",
   "id": "6ff1b6e1",
   "metadata": {},
   "source": [
    "## Biểu đồ histogram + boxplot \n",
    "- Các thuộc tính numerical: \"price\", \"discount\", \"quantity\", \"event_value\"\n",
    "- Log_transform vì có nhiều outlier lớn khiến plot bị lệch"
   ]
  },
  {
   "cell_type": "code",
   "execution_count": 5,
   "id": "064456e7",
   "metadata": {},
   "outputs": [
    {
     "name": "stdout",
     "output_type": "stream",
     "text": [
      "✅ Đã lưu biểu đồ kết hợp histogram + boxplot tại: ./images/history-chunk\\log_price_combined.png\n"
     ]
    }
   ],
   "source": [
    "# --- Đường dẫn thư mục lưu ảnh ---\n",
    "output_folder = \"./images/history-chunk\"\n",
    "os.makedirs(output_folder, exist_ok=True)\n",
    "\n",
    "# --- Lấy dữ liệu và log-transform ---\n",
    "price_np = history_df[\"price\"].cast(pl.Float64).to_numpy()\n",
    "price_log = np.log1p(price_np)  # log(1 + x) để tránh log(0)\n",
    "\n",
    "# --- Vẽ figure gồm 2 biểu đồ (histogram + boxplot) ---\n",
    "plt.figure(figsize=(9, 6))\n",
    "\n",
    "# Histogram (ở trên)\n",
    "plt.subplot(2, 1, 1)\n",
    "sns.histplot(price_log, bins=50, kde=True, color=\"skyblue\")\n",
    "plt.title(\"Histogram của log(price)\")\n",
    "plt.xlabel(\"\")\n",
    "plt.ylabel(\"Tần suất\")\n",
    "\n",
    "# Boxplot (ở dưới)\n",
    "plt.subplot(2, 1, 2)\n",
    "sns.boxplot(x=price_log, color=\"lightgreen\")\n",
    "plt.title(\"Boxplot của log(price)\")\n",
    "plt.xlabel(\"log(price)\")\n",
    "\n",
    "# Căn chỉnh layout cho đẹp\n",
    "plt.tight_layout()\n",
    "\n",
    "# --- Lưu ảnh ---\n",
    "output_path = os.path.join(output_folder, \"log_price_combined.png\")\n",
    "plt.savefig(output_path, bbox_inches=\"tight\", dpi=300)\n",
    "plt.close()\n",
    "\n",
    "print(f\"✅ Đã lưu biểu đồ kết hợp histogram + boxplot tại: {output_path}\")"
   ]
  },
  {
   "cell_type": "code",
   "execution_count": 6,
   "id": "eaaaf5a2",
   "metadata": {},
   "outputs": [
    {
     "name": "stdout",
     "output_type": "stream",
     "text": [
      "✅ Đã lưu biểu đồ kết hợp histogram + boxplot tại: ./images/history-chunk\\log_discount_combined.png\n"
     ]
    }
   ],
   "source": [
    "# --- Thư mục lưu ảnh ---\n",
    "output_folder = \"./images/history-chunk\"\n",
    "os.makedirs(output_folder, exist_ok=True)\n",
    "\n",
    "# --- Lấy dữ liệu discount và log-transform ---\n",
    "discount_np = history_df[\"discount\"].cast(pl.Float64).to_numpy()\n",
    "\n",
    "# Loại bỏ giá trị âm hoặc None trước khi log-transform\n",
    "discount_np = discount_np[~np.isnan(discount_np)]\n",
    "discount_np = discount_np[discount_np >= 0]\n",
    "\n",
    "discount_log = np.log1p(discount_np)  # log(1 + x)\n",
    "\n",
    "# --- Vẽ figure gồm 2 biểu đồ ---\n",
    "plt.figure(figsize=(9, 6))\n",
    "\n",
    "# Histogram (phía trên)\n",
    "plt.subplot(2, 1, 1)\n",
    "sns.histplot(discount_log, bins=50, kde=True, color=\"orange\")\n",
    "plt.title(\"Histogram của log(discount)\")\n",
    "plt.xlabel(\"\")\n",
    "plt.ylabel(\"Tần suất\")\n",
    "\n",
    "# Boxplot (phía dưới)\n",
    "plt.subplot(2, 1, 2)\n",
    "sns.boxplot(x=discount_log, color=\"lightcoral\")\n",
    "plt.title(\"Boxplot của log(discount)\")\n",
    "plt.xlabel(\"log(discount)\")\n",
    "\n",
    "# Căn chỉnh layout\n",
    "plt.tight_layout()\n",
    "\n",
    "# --- Lưu hình ---\n",
    "output_path = os.path.join(output_folder, \"log_discount_combined.png\")\n",
    "plt.savefig(output_path, bbox_inches=\"tight\", dpi=300)\n",
    "plt.close()\n",
    "\n",
    "print(f\"✅ Đã lưu biểu đồ kết hợp histogram + boxplot tại: {output_path}\")"
   ]
  },
  {
   "cell_type": "code",
   "execution_count": 7,
   "id": "ce817654",
   "metadata": {},
   "outputs": [
    {
     "name": "stdout",
     "output_type": "stream",
     "text": [
      "✅ Đã lưu biểu đồ kết hợp histogram + boxplot tại: ./images/history-chunk\\log_quantity_combined.png\n"
     ]
    }
   ],
   "source": [
    "# --- Thư mục lưu ảnh ---\n",
    "output_folder = \"./images/history-chunk\"\n",
    "os.makedirs(output_folder, exist_ok=True)\n",
    "\n",
    "# --- Lấy dữ liệu quantity và log-transform ---\n",
    "quantity_np = history_df[\"quantity\"].cast(pl.Float64).to_numpy()\n",
    "\n",
    "# Loại bỏ giá trị None hoặc âm (nếu có)\n",
    "quantity_np = quantity_np[~np.isnan(quantity_np)]\n",
    "quantity_np = quantity_np[quantity_np >= 0]\n",
    "\n",
    "# Log-transform (log1p để tránh log(0))\n",
    "quantity_log = np.log1p(quantity_np)\n",
    "\n",
    "# --- Vẽ figure gồm 2 biểu đồ ---\n",
    "plt.figure(figsize=(9, 6))\n",
    "\n",
    "# Histogram (phía trên)\n",
    "plt.subplot(2, 1, 1)\n",
    "sns.histplot(quantity_log, bins=50, kde=True, color=\"skyblue\")\n",
    "plt.axvline(np.median(quantity_log), color='red', linestyle='--', label='Median')\n",
    "plt.title(\"Phân bố log(quantity)\", fontsize=12)\n",
    "plt.ylabel(\"Tần suất\", fontsize=11)\n",
    "plt.legend()\n",
    "\n",
    "# Boxplot (phía dưới)\n",
    "plt.subplot(2, 1, 2)\n",
    "sns.boxplot(x=quantity_log, color=\"lightblue\")\n",
    "plt.title(\"Boxplot log(quantity)\", fontsize=12)\n",
    "plt.xlabel(\"log(quantity)\", fontsize=11)\n",
    "\n",
    "# Căn chỉnh layout cho đẹp\n",
    "plt.tight_layout()\n",
    "\n",
    "# --- Lưu hình ---\n",
    "output_path = os.path.join(output_folder, \"log_quantity_combined.png\")\n",
    "plt.savefig(output_path, bbox_inches=\"tight\", dpi=300)\n",
    "plt.close()\n",
    "\n",
    "print(f\"✅ Đã lưu biểu đồ kết hợp histogram + boxplot tại: {output_path}\")"
   ]
  },
  {
   "cell_type": "code",
   "execution_count": 9,
   "id": "711731cb",
   "metadata": {},
   "outputs": [
    {
     "name": "stdout",
     "output_type": "stream",
     "text": [
      "✅ Đã lưu biểu đồ kết hợp histogram + boxplot tại: ./images/history-chunk\\log_event_value_combined.png\n"
     ]
    }
   ],
   "source": [
    "# --- Thư mục lưu ảnh ---\n",
    "output_folder = \"./images/history-chunk\"\n",
    "os.makedirs(output_folder, exist_ok=True)\n",
    "\n",
    "# --- Lấy dữ liệu event_value và log-transform ---\n",
    "event_value_np = history_df[\"event_value\"].cast(pl.Float64).to_numpy()\n",
    "\n",
    "# Loại bỏ giá trị NaN hoặc âm (vì log không nhận giá trị âm)\n",
    "event_value_np = event_value_np[~np.isnan(event_value_np)]\n",
    "event_value_np = event_value_np[event_value_np >= 0]\n",
    "\n",
    "# Log-transform: log(1 + x)\n",
    "event_value_log = np.log1p(event_value_np)\n",
    "\n",
    "# --- Vẽ figure gồm 2 biểu đồ ---\n",
    "plt.figure(figsize=(10, 6))\n",
    "\n",
    "# Histogram (phía trên)\n",
    "plt.subplot(2, 1, 1)\n",
    "sns.histplot(event_value_log, bins=50, kde=True, color=\"mediumseagreen\", stat='count')\n",
    "plt.axvline(np.median(event_value_log), color='red', linestyle='--', label='Median')\n",
    "plt.title(\"Phân bố log(event_value)\", fontsize=12)\n",
    "plt.ylabel(\"Tần suất\", fontsize=11)\n",
    "plt.legend()\n",
    "\n",
    "# Boxplot (phía dưới)\n",
    "plt.subplot(2, 1, 2)\n",
    "sns.boxplot(x=event_value_log, color=\"palegreen\", fliersize=2)\n",
    "plt.title(\"Boxplot log(event_value)\", fontsize=12)\n",
    "plt.xlabel(\"log(event_value)\", fontsize=11)\n",
    "\n",
    "# Căn chỉnh layout\n",
    "plt.tight_layout()\n",
    "\n",
    "# --- Lưu hình ---\n",
    "output_path = os.path.join(output_folder, \"log_event_value_combined.png\")\n",
    "plt.savefig(output_path, bbox_inches=\"tight\", dpi=300)\n",
    "plt.close()\n",
    "\n",
    "print(f\"✅ Đã lưu biểu đồ kết hợp histogram + boxplot tại: {output_path}\")"
   ]
  },
  {
   "cell_type": "markdown",
   "id": "894b608f",
   "metadata": {},
   "source": [
    "## Biểu đồ phân bố \n",
    "- Các thuộc tính categorical: \"channel\", \"payment\", \"location\""
   ]
  },
  {
   "cell_type": "code",
   "execution_count": 32,
   "id": "d0f73fa1",
   "metadata": {},
   "outputs": [
    {
     "name": "stderr",
     "output_type": "stream",
     "text": [
      "C:\\Users\\tncn2\\AppData\\Local\\Temp\\ipykernel_22068\\3350282887.py:21: FutureWarning: \n",
      "\n",
      "Passing `palette` without assigning `hue` is deprecated and will be removed in v0.14.0. Assign the `x` variable to `hue` and set `legend=False` for the same effect.\n",
      "\n",
      "  sns.barplot(x=channels, y=counts, palette=\"viridis\")\n"
     ]
    },
    {
     "name": "stdout",
     "output_type": "stream",
     "text": [
      "✅ Đã lưu biểu đồ phân bố channel tại: ./images/history-chunk\\channel_distribution.png\n"
     ]
    }
   ],
   "source": [
    "output_folder = \"./images/history-chunk\"\n",
    "os.makedirs(output_folder, exist_ok=True)\n",
    "\n",
    "categorical_cols = [\"channel\", \"payment\", \"location\"]\n",
    "\n",
    "for col in categorical_cols:\n",
    "    if col not in history_df.columns:\n",
    "        print(f\"Cột '{col}' không tồn tại trong history_df, bỏ qua.\")\n",
    "        continue\n",
    "\n",
    "    counts_df = (\n",
    "        history_df\n",
    "        .select(col)\n",
    "        .fill_null(\"Unknown\")\n",
    "        .group_by(col)\n",
    "        .len()\n",
    "        .sort(\"len\", descending=True)\n",
    "    )\n",
    "\n",
    "    labels = counts_df[col].to_list()\n",
    "    counts = counts_df[\"len\"].to_list()\n",
    "\n",
    "    plt.figure(figsize=(10, 6))\n",
    "    sns.barplot(x=labels, y=counts, palette=\"viridis\")\n",
    "\n",
    "    for i, v in enumerate(counts):\n",
    "        plt.text(i, v, f\"{v:,}\", ha='center', va='bottom', fontsize=8)\n",
    "\n",
    "    plt.yscale(\"log\")\n",
    "\n",
    "    plt.title(f\"Phân bố (log scale) theo {col}\", fontsize=13)\n",
    "    plt.xlabel(col.capitalize(), fontsize=11)\n",
    "    plt.ylabel(\"Số lượng bản ghi (log scale)\", fontsize=11)\n",
    "    plt.xticks(rotation=30, ha=\"right\")\n",
    "\n",
    "    plt.tight_layout()\n",
    "\n",
    "    # --- Lưu hình ---\n",
    "    output_path = os.path.join(output_folder, f\"{col}_distribution_log.png\")\n",
    "    plt.savefig(output_path, bbox_inches=\"tight\", dpi=300)\n",
    "    plt.close()\n",
    "\n",
    "    print(f\"✅ Đã lưu biểu đồ LOG phân bố cho '{col}' tại: {output_path}\")"
   ]
  },
  {
   "cell_type": "code",
   "execution_count": null,
   "id": "03ac0b42",
   "metadata": {},
   "outputs": [
    {
     "name": "stderr",
     "output_type": "stream",
     "text": [
      "C:\\Users\\tncn2\\AppData\\Local\\Temp\\ipykernel_22068\\3797959943.py:29: FutureWarning: \n",
      "\n",
      "Passing `palette` without assigning `hue` is deprecated and will be removed in v0.14.0. Assign the `x` variable to `hue` and set `legend=False` for the same effect.\n",
      "\n",
      "  sns.barplot(x=labels, y=counts, palette=\"viridis\")\n"
     ]
    },
    {
     "name": "stdout",
     "output_type": "stream",
     "text": [
      "✅ Đã lưu biểu đồ LOG phân bố cho 'channel' tại: ./images/history-chunk\\channel_distribution_log.png\n"
     ]
    },
    {
     "name": "stderr",
     "output_type": "stream",
     "text": [
      "C:\\Users\\tncn2\\AppData\\Local\\Temp\\ipykernel_22068\\3797959943.py:29: FutureWarning: \n",
      "\n",
      "Passing `palette` without assigning `hue` is deprecated and will be removed in v0.14.0. Assign the `x` variable to `hue` and set `legend=False` for the same effect.\n",
      "\n",
      "  sns.barplot(x=labels, y=counts, palette=\"viridis\")\n"
     ]
    },
    {
     "name": "stdout",
     "output_type": "stream",
     "text": [
      "✅ Đã lưu biểu đồ LOG phân bố cho 'payment' tại: ./images/history-chunk\\payment_distribution_log.png\n"
     ]
    },
    {
     "name": "stderr",
     "output_type": "stream",
     "text": [
      "C:\\Users\\tncn2\\AppData\\Local\\Temp\\ipykernel_22068\\3797959943.py:29: FutureWarning: \n",
      "\n",
      "Passing `palette` without assigning `hue` is deprecated and will be removed in v0.14.0. Assign the `x` variable to `hue` and set `legend=False` for the same effect.\n",
      "\n",
      "  sns.barplot(x=labels, y=counts, palette=\"viridis\")\n"
     ]
    },
    {
     "name": "stdout",
     "output_type": "stream",
     "text": [
      "✅ Đã lưu biểu đồ LOG phân bố cho 'location' tại: ./images/history-chunk\\location_distribution_log.png\n"
     ]
    }
   ],
   "source": [
    "output_folder = \"./images/history-chunk\"\n",
    "os.makedirs(output_folder, exist_ok=True)\n",
    "\n",
    "# --- Danh sách các cột phân loại cần vẽ ---\n",
    "categorical_cols = [\"channel\", \"payment\", \"location\"]\n",
    "\n",
    "# --- Lặp qua từng cột ---\n",
    "for col in categorical_cols:\n",
    "    if col not in history_df.columns:\n",
    "        print(f\"Cột '{col}' không tồn tại trong history_df, bỏ qua.\")\n",
    "        continue\n",
    "\n",
    "    # --- Đếm tần suất từng giá trị ---\n",
    "    counts_df = (\n",
    "        history_df\n",
    "        .select(col)\n",
    "        .fill_null(\"Unknown\")\n",
    "        .group_by(col)\n",
    "        .len()\n",
    "        .sort(\"len\", descending=True)\n",
    "    )\n",
    "\n",
    "    # Lấy dữ liệu để vẽ\n",
    "    labels = counts_df[col].to_list()\n",
    "    counts = counts_df[\"len\"].to_list()\n",
    "\n",
    "    # --- Vẽ biểu đồ ---\n",
    "    plt.figure(figsize=(10, 6))\n",
    "    sns.barplot(x=labels, y=counts, palette=\"viridis\")\n",
    "\n",
    "    # Thêm số lượng lên cột (hiển thị giá trị thật, không log)\n",
    "    for i, v in enumerate(counts):\n",
    "        plt.text(i, v, f\"{v:,}\", ha='center', va='bottom', fontsize=8)\n",
    "\n",
    "    # --- Thiết lập trục Y theo log ---\n",
    "    plt.yscale(\"log\")\n",
    "\n",
    "    # --- Nhãn và tiêu đề ---\n",
    "    plt.title(f\"Phân bố (log scale) theo {col}\", fontsize=13)\n",
    "    plt.xlabel(col.capitalize(), fontsize=11)\n",
    "    plt.ylabel(\"Số lượng bản ghi (log scale)\", fontsize=11)\n",
    "    plt.xticks(rotation=30, ha=\"right\")\n",
    "\n",
    "    plt.tight_layout()\n",
    "\n",
    "    # --- Lưu hình ---\n",
    "    output_path = os.path.join(output_folder, f\"{col}_distribution_log.png\")\n",
    "    plt.savefig(output_path, bbox_inches=\"tight\", dpi=300)\n",
    "    plt.close()\n",
    "\n",
    "    print(f\"✅ Đã lưu biểu đồ LOG phân bố cho '{col}' tại: {output_path}\")"
   ]
  },
  {
   "cell_type": "code",
   "execution_count": 7,
   "id": "18c356d4",
   "metadata": {},
   "outputs": [
    {
     "name": "stderr",
     "output_type": "stream",
     "text": [
      "C:\\Users\\tncn2\\AppData\\Local\\Temp\\ipykernel_22068\\1178360574.py:25: FutureWarning: \n",
      "\n",
      "Passing `palette` without assigning `hue` is deprecated and will be removed in v0.14.0. Assign the `x` variable to `hue` and set `legend=False` for the same effect.\n",
      "\n",
      "  sns.barplot(x=labels, y=counts_log, palette=\"viridis\")\n"
     ]
    },
    {
     "name": "stdout",
     "output_type": "stream",
     "text": [
      "✅ Đã lưu biểu đồ log-transform top 10 location tại: ./images/history-chunk\\location_distribution_log_top10.png\n"
     ]
    }
   ],
   "source": [
    "\n",
    "# --- Thư mục lưu ảnh ---\n",
    "output_folder = \"./images/history-chunk\"\n",
    "os.makedirs(output_folder, exist_ok=True)\n",
    "\n",
    "# --- Xử lý dữ liệu cột 'location' ---\n",
    "counts_df = (\n",
    "    history_df\n",
    "    .select(\"location\")\n",
    "    .fill_null(\"Unknown\")\n",
    "    .group_by(\"location\")\n",
    "    .len()\n",
    "    .sort(\"len\", descending=True)\n",
    "    .head(10)  \n",
    ")\n",
    "\n",
    "# Lấy dữ liệu để vẽ\n",
    "labels = counts_df[\"location\"].to_list()\n",
    "counts = counts_df[\"len\"].to_numpy()\n",
    "\n",
    "# --- Log-transform ---\n",
    "counts_log = np.log1p(counts)  # log(1 + x) để tránh log(0)\n",
    "\n",
    "# --- Vẽ biểu đồ ---\n",
    "plt.figure(figsize=(10, 6))\n",
    "sns.barplot(x=labels, y=counts_log, palette=\"viridis\")\n",
    "\n",
    "# Thêm nhãn giá trị thật (chưa log)\n",
    "for i, v in enumerate(counts):\n",
    "    plt.text(i, np.log1p(v), f\"{v:,}\", ha='center', va='bottom', fontsize=9)\n",
    "\n",
    "# --- Nhãn và tiêu đề ---\n",
    "plt.title(\"Phân bố (log-transform) Top 10 Location\", fontsize=13)\n",
    "plt.xlabel(\"Location\", fontsize=11)\n",
    "plt.ylabel(\"log(1 + Số lượng bản ghi)\", fontsize=11)\n",
    "plt.xticks(rotation=30, ha=\"right\")\n",
    "\n",
    "plt.tight_layout()\n",
    "\n",
    "# --- Lưu hình ---\n",
    "output_path = os.path.join(output_folder, \"location_distribution_log_top10.png\")\n",
    "plt.savefig(output_path, bbox_inches=\"tight\", dpi=300)\n",
    "plt.close()\n",
    "\n",
    "print(f\"✅ Đã lưu biểu đồ log-transform top 10 location tại: {output_path}\")"
   ]
  },
  {
   "cell_type": "code",
   "execution_count": 50,
   "id": "12a088c5",
   "metadata": {},
   "outputs": [
    {
     "name": "stdout",
     "output_type": "stream",
     "text": [
      "[timestamp] n=35,729,825 | null=0 | unique=10,250,864\n",
      "min=1,704,091,499  p1=1,704,397,589  p25=1,711,989,850  median=1,719,947,212  p75=1,727,898,922  p99=1,735,404,080  max=1,735,684,519\n"
     ]
    },
    {
     "data": {
      "image/png": "[encoded data removed]",
      "text/plain": [
       "<Figure size 1000x600 with 2 Axes>"
      ]
     },
     "metadata": {},
     "output_type": "display_data"
    }
   ],
   "source": [
    "def univariate_int_timestamp(df: pl.DataFrame, col: str = \"timestamp\", use_log_x: bool = False):\n",
    "\n",
    "    s = df[col]\n",
    "\n",
    "    if s.dtype != pl.Int64 and s.dtype != pl.UInt64:\n",
    "        s = s.cast(pl.Int64)\n",
    "    s = s.drop_nulls()\n",
    "\n",
    "    n = s.len()\n",
    "    n_null = df[col].null_count()\n",
    "    n_unique = s.n_unique()\n",
    "    arr = s.to_numpy()\n",
    "    p = np.percentile(arr, [1, 25, 50, 75, 99])\n",
    "\n",
    "    print(f\"[{col}] n={n:,} | null={int(n_null):,} | unique={int(n_unique):,}\")\n",
    "    print(f\"min={arr.min():,}  p1={int(p[0]):,}  p25={int(p[1]):,}  \"\n",
    "          f\"median={int(p[2]):,}  p75={int(p[3]):,}  p99={int(p[4]):,}  max={arr.max():,}\")\n",
    "\n",
    "    plt.figure(figsize=(10, 6))\n",
    "\n",
    "    # Histogram\n",
    "    plt.subplot(2, 1, 1)\n",
    "    sns.histplot(arr, bins=80, kde=True)\n",
    "    if use_log_x:\n",
    "        plt.xscale(\"log\")\n",
    "        plt.xlabel(f\"{col} (log scale)\")\n",
    "    else:\n",
    "        plt.xlabel(col)\n",
    "    plt.ylabel(\"Count\")\n",
    "    plt.title(f\"Phân bố {col} (int-encoded)\")\n",
    "\n",
    "    # Boxplot\n",
    "    plt.subplot(2, 1, 2)\n",
    "    sns.boxplot(x=arr, fliersize=2)\n",
    "    if use_log_x:\n",
    "        plt.xscale(\"log\")\n",
    "        plt.xlabel(f\"{col} (log scale)\")\n",
    "    else:\n",
    "        plt.xlabel(col)\n",
    "    plt.tight_layout()\n",
    "    plt.show()\n",
    "\n",
    "univariate_int_timestamp(history_df, col=\"timestamp\", use_log_x=False)\n"
   ]
  },
  {
   "cell_type": "code",
   "execution_count": 39,
   "id": "9f40e3c1",
   "metadata": {},
   "outputs": [
    {
     "name": "stdout",
     "output_type": "stream",
     "text": [
      "Lưu: ./images/history-chunk\\cust_orders_hist.png\n",
      "Lưu: ./images/history-chunk\\cust_orders_hist_log1p.png\n"
     ]
    }
   ],
   "source": [
    "vals = [int(x) for x in orders_per_cust[\"n_orders\"].to_list() if x is not None]\n",
    "\n",
    "# Histogram chuẩn (số đếm)\n",
    "plt.figure(figsize=(9,5))\n",
    "sns.histplot(vals, bins=50)\n",
    "plt.title(\"Phân bố số đơn theo khách hàng\")\n",
    "plt.xlabel(\"Số đơn/khách\")\n",
    "plt.ylabel(\"Số khách\")\n",
    "plt.tight_layout()\n",
    "path1 = os.path.join(outdir, \"cust_orders_hist.png\")\n",
    "plt.savefig(path1, dpi=300, bbox_inches=\"tight\"); plt.close()\n",
    "print(\"Lưu:\", path1)\n",
    "\n",
    "# Histogram trên trục X log1p (nhìn rõ long-tail)\n",
    "plt.figure(figsize=(9,5))\n",
    "sns.histplot(np.log1p(vals), bins=50)\n",
    "plt.title(\"Phân bố số đơn theo khách (trục log1p)\")\n",
    "plt.xlabel(\"log1p(Số đơn/khách)\")\n",
    "plt.ylabel(\"Số khách\")\n",
    "plt.tight_layout()\n",
    "path2 = os.path.join(outdir, \"cust_orders_hist_log1p.png\")\n",
    "plt.savefig(path2, dpi=300, bbox_inches=\"tight\"); plt.close()\n",
    "print(\"Lưu:\", path2)"
   ]
  },
  {
   "cell_type": "markdown",
   "id": "a61b1bd6",
   "metadata": {},
   "source": [
    "### Phân tích phân bố số đơn hàng theo khách hàng (log1p)\n",
    "\n",
    "Biểu đồ trên thể hiện **phân bố số đơn hàng của từng khách hàng** sau khi áp dụng phép biến đổi log1p để giảm độ lệch.\n",
    "\n",
    "**Nhận xét:**\n",
    "- Phân bố **lệch phải rất mạnh (right-skewed)**: phần lớn khách hàng chỉ có **1–2 đơn hàng**, trong khi một số rất ít khách hàng có số đơn cao hơn nhiều, kéo đuôi phân bố dài sang phải.  \n",
    "- Đường histogram có dạng **“răng cưa” (lòi lõm)** là do dữ liệu **rời rạc (integer)** — các giá trị như 1, 2, 3, 5, 10 đơn thường xuất hiện nhiều hơn hẳn, tạo các “đỉnh” xen kẽ.  \n",
    "- Hiện tượng này là **bình thường**, phản ánh đúng hành vi mua sắm thực tế:  \n",
    "  phần lớn người dùng chỉ mua 1–2 lần, trong khi nhóm nhỏ khách hàng trung thành mua rất nhiều.\n",
    "\n",
    "**Kết luận:**  \n",
    "Dữ liệu **không có bất thường nghiêm trọng**, nhưng **rất mất cân bằng** giữa nhóm khách hàng ít mua và nhóm khách hàng thường xuyên\n"
   ]
  },
  {
   "cell_type": "markdown",
   "id": "f465ed21",
   "metadata": {},
   "source": [
    "# Task 2"
   ]
  },
  {
   "cell_type": "code",
   "execution_count": 14,
   "id": "d13b102b",
   "metadata": {},
   "outputs": [
    {
     "name": "stdout",
     "output_type": "stream",
     "text": [
      "🔹 Processing Chi-squared test for channel × payment ...\n"
     ]
    },
    {
     "name": "stderr",
     "output_type": "stream",
     "text": [
      "C:\\Users\\tncn2\\AppData\\Local\\Temp\\ipykernel_22068\\3055133420.py:20: DeprecationWarning: the argument `columns` for `DataFrame.pivot` is deprecated. It was renamed to `on` in version 1.0.0.\n",
      "  .pivot(values=\"len\", index=col1, columns=col2)\n"
     ]
    },
    {
     "name": "stdout",
     "output_type": "stream",
     "text": [
      "🔹 Processing Chi-squared test for channel × location ...\n",
      "🔹 Processing Chi-squared test for payment × location ...\n",
      "\n",
      "Kết quả kiểm định Chi-squared giữa các cặp biến phân loại:\n",
      "\n",
      "channel × payment:\n",
      "  → χ² = 24857243.86, p = 0.0000, df = 90\n",
      "Có mối liên hệ có ý nghĩa thống kê (p < 0.05)\n",
      "\n",
      "channel × location:\n",
      "  → χ² = 37228229.48, p = 0.0000, df = 7640\n",
      "Có mối liên hệ có ý nghĩa thống kê (p < 0.05)\n",
      "\n",
      "payment × location:\n",
      "  → χ² = 7279800.00, p = 0.0000, df = 6876\n",
      "Có mối liên hệ có ý nghĩa thống kê (p < 0.05)\n",
      "\n"
     ]
    }
   ],
   "source": [
    "from scipy.stats import chi2_contingency\n",
    "# --- Danh sách các cột phân loại ---\n",
    "categorical_columns = [\"channel\", \"payment\", \"location\"]\n",
    "\n",
    "# --- Dictionary lưu kết quả ---\n",
    "results = {}\n",
    "\n",
    "# --- Lặp qua từng cặp biến phân loại ---\n",
    "for i, col1 in enumerate(categorical_columns):\n",
    "    for col2 in categorical_columns[i + 1:]:\n",
    "        print(f\"🔹 Processing Chi-squared test for {col1} × {col2} ...\")\n",
    "\n",
    "        # Tạo bảng tần suất (contingency table)\n",
    "        contingency_df = (\n",
    "            history_df\n",
    "            .select([col1, col2])\n",
    "            .fill_null(\"Unknown\")                # thay thế giá trị null\n",
    "            .group_by([col1, col2])\n",
    "            .len()                               # đếm số lượng từng tổ hợp\n",
    "            .pivot(values=\"len\", index=col1, columns=col2)\n",
    "            .fill_null(0)                        # thay null bằng 0\n",
    "        )\n",
    "\n",
    "        # Lấy dữ liệu dạng numpy\n",
    "        contingency_table = contingency_df.select(pl.exclude(col1)).to_numpy()\n",
    "\n",
    "        # Nếu bảng quá nhỏ hoặc chỉ có 1 hàng/cột thì bỏ qua\n",
    "        if contingency_table.shape[0] < 2 or contingency_table.shape[1] < 2:\n",
    "            print(f\"⚠️ Bỏ qua {col1} × {col2} (chỉ có 1 giá trị duy nhất trong 1 biến)\")\n",
    "            continue\n",
    "\n",
    "        # 3️⃣ Thực hiện kiểm định Chi-squared\n",
    "        chi2, p, dof, expected = chi2_contingency(contingency_table)\n",
    "\n",
    "        # 4️⃣ Lưu kết quả\n",
    "        results[(col1, col2)] = {\n",
    "            \"chi2_statistic\": chi2,\n",
    "            \"p_value\": p,\n",
    "            \"degrees_of_freedom\": dof,\n",
    "            \"significant\": p < 0.05\n",
    "        }\n",
    "\n",
    "# --- In kết quả ---\n",
    "print(\"\\nKết quả kiểm định Chi-squared giữa các cặp biến phân loại:\\n\")\n",
    "for (col1, col2), result in results.items():\n",
    "    print(f\"{col1} × {col2}:\")\n",
    "    print(f\"  → χ² = {result['chi2_statistic']:.2f}, p = {result['p_value']:.4f}, df = {result['degrees_of_freedom']}\")\n",
    "    if result[\"significant\"]:\n",
    "        print(\"Có mối liên hệ có ý nghĩa thống kê (p < 0.05)\")\n",
    "    else:\n",
    "        print(\"Không có mối liên hệ đáng kể (p ≥ 0.05)\")\n",
    "    print()"
   ]
  },
  {
   "cell_type": "markdown",
   "id": "4e2f99ce",
   "metadata": {},
   "source": [
    "**Nhận xét:**\n",
    "- Tất cả các cặp biến đều có **p-value < 0.05**, chứng tỏ **các biến phân loại không độc lập** với nhau.  \n",
    "- Cụ thể:\n",
    "  - **Channel và Payment** có mối liên hệ rõ ràng — hình thức thanh toán thường phụ thuộc vào kênh bán hàng (ví dụ: cửa hàng thường dùng tiền mặt, online ưu tiên ví điện tử).  \n",
    "  - **Channel và Location** cũng liên quan chặt chẽ — một số địa điểm chỉ hỗ trợ một số kênh bán cụ thể.  \n",
    "  - **Payment và Location** cho thấy hình thức thanh toán thay đổi theo khu vực (vùng trung tâm có thể phổ biến QR, vùng khác chủ yếu tiền mặt).  "
   ]
  },
  {
   "cell_type": "code",
   "execution_count": 18,
   "id": "c27e33ef",
   "metadata": {},
   "outputs": [
    {
     "name": "stdout",
     "output_type": "stream",
     "text": [
      "Cramér’s V(channel, channel) = 1.000\n"
     ]
    },
    {
     "name": "stderr",
     "output_type": "stream",
     "text": [
      "C:\\Users\\tncn2\\AppData\\Local\\Temp\\ipykernel_22068\\358987356.py:19: DeprecationWarning: the argument `columns` for `DataFrame.pivot` is deprecated. It was renamed to `on` in version 1.0.0.\n",
      "  .pivot(values=\"len\", index=col1, columns=col2, aggregate_function=None)\n"
     ]
    },
    {
     "name": "stdout",
     "output_type": "stream",
     "text": [
      "Cramér’s V(channel, payment) = 0.278\n",
      "Cramér’s V(channel, location) = 0.323\n",
      "Cramér’s V(payment, channel) = 0.278\n",
      "Cramér’s V(payment, payment) = 1.000\n",
      "Cramér’s V(payment, location) = 0.150\n",
      "Cramér’s V(location, channel) = 0.323\n",
      "Cramér’s V(location, payment) = 0.150\n",
      "Cramér’s V(location, location) = 1.000\n",
      "\n",
      " Đã lưu biểu đồ Cramér’s V tại: ./images/history-chunk\\cramers_v_matrix.png\n"
     ]
    }
   ],
   "source": [
    "output_folder = \"./images/history-chunk\"\n",
    "os.makedirs(output_folder, exist_ok=True)\n",
    "\n",
    "categorical_cols = [\"channel\", \"payment\", \"location\"]\n",
    "\n",
    "def cramers_v_pl(df: pl.DataFrame, col1: str, col2: str) -> float:\n",
    "    # Bảng tần suất\n",
    "    freq_df = (\n",
    "        df\n",
    "        .select([col1, col2])\n",
    "        .fill_null(\"Unknown\")\n",
    "        .group_by([col1, col2])\n",
    "        .len()\n",
    "    )\n",
    "\n",
    "    # Pivot sang ma trận tần suất\n",
    "    pivot_df = (\n",
    "        freq_df\n",
    "        .pivot(values=\"len\", index=col1, columns=col2, aggregate_function=None)\n",
    "        .fill_null(0)\n",
    "    )\n",
    "\n",
    "    # Nếu thiếu chiều, trả về NaN\n",
    "    if pivot_df.height < 2 or (pivot_df.width - 1) < 2:\n",
    "        return np.nan\n",
    "\n",
    "    # Chỉ giữ cột số và ép kiểu về float để tránh dtype=object\n",
    "    numeric_df = (\n",
    "        pivot_df\n",
    "        .drop(col1)                              # bỏ cột index\n",
    "        .select(pl.all().cast(pl.Float64))       # ép tất cả cột về số\n",
    "    )\n",
    "\n",
    "    contingency_table = numeric_df.to_numpy()    # ndarray float\n",
    "\n",
    "    # Chi-squared\n",
    "    chi2, _, _, _ = chi2_contingency(contingency_table)\n",
    "    n = contingency_table.sum()\n",
    "    k = min(contingency_table.shape) - 1\n",
    "    if n == 0 or k == 0:\n",
    "        return np.nan\n",
    "    return float(np.sqrt(chi2 / (n * k)))\n",
    "\n",
    "# Tính ma trận Cramer's V\n",
    "n = len(categorical_cols)\n",
    "cramer_matrix = np.zeros((n, n))\n",
    "for i, col1 in enumerate(categorical_cols):\n",
    "    for j, col2 in enumerate(categorical_cols):\n",
    "        if i == j:\n",
    "            cramer_matrix[i, j] = 1.0\n",
    "        else:\n",
    "            cramer_matrix[i, j] = cramers_v_pl(history_df, col1, col2)\n",
    "        print(f\"Cramér’s V({col1}, {col2}) = {cramer_matrix[i, j]:.3f}\")\n",
    "\n",
    "# Vẽ & lưu heatmap\n",
    "plt.figure(figsize=(6, 5))\n",
    "sns.heatmap(\n",
    "    cramer_matrix, annot=True, cmap=\"YlOrBr\", fmt=\".2f\",\n",
    "    xticklabels=categorical_cols, yticklabels=categorical_cols, square=True\n",
    ")\n",
    "plt.title(\"Ma trận Cramér’s V giữa các biến phân loại\", fontsize=13)\n",
    "plt.tight_layout()\n",
    "\n",
    "output_path = os.path.join(output_folder, \"cramers_v_matrix.png\")\n",
    "plt.savefig(output_path, bbox_inches=\"tight\", dpi=300)\n",
    "plt.close()\n",
    "print(f\"\\n Đã lưu biểu đồ Cramér’s V tại: {output_path}\")"
   ]
  },
  {
   "cell_type": "markdown",
   "id": "c3210383",
   "metadata": {},
   "source": [
    "**Nhận xét:**\n",
    "- Các giá trị **Cramér’s V < 0.35**, cho thấy **mối quan hệ giữa các biến phân loại là trung bình hoặc yếu**, không có tương quan quá mạnh (trừ các biến với chính nó).  \n",
    "- **Channel và Payment (V = 0.278)** có mối liên hệ ở mức **trung bình**, phù hợp với thực tế: phương thức thanh toán thường gắn với loại kênh bán hàng.  \n",
    "- **Channel và Location (V = 0.323)** cũng có tương quan trung bình — một số khu vực có thể chỉ hoạt động mạnh ở một vài kênh cụ thể.  \n",
    "- **Payment và Location (V = 0.150)** chỉ có tương quan yếu, cho thấy hình thức thanh toán ít bị ảnh hưởng bởi vị trí địa lý."
   ]
  },
  {
   "cell_type": "code",
   "execution_count": null,
   "id": "99aa19eb",
   "metadata": {},
   "outputs": [],
   "source": [
    "def plot_crosstab_heatmap(df, col1, col2, top_x=10, show=True):\n",
    "    \"\"\"\n",
    "    Vẽ heatmap tần suất giữa hai cột phân loại\n",
    "    \"\"\"\n",
    "    # --- Tạo thư mục nếu chưa có ---\n",
    "    output_folder = \"./images/history-chunk\"\n",
    "    os.makedirs(output_folder, exist_ok=True)\n",
    "\n",
    "    # --- Lấy top giá trị phổ biến ---\n",
    "    top1 = (\n",
    "        df.group_by(col1)\n",
    "        .len()\n",
    "        .sort(\"len\", descending=True)\n",
    "        .head(top_x)[col1]\n",
    "        .to_list()\n",
    "    )\n",
    "    top2 = (\n",
    "        df.group_by(col2)\n",
    "        .len()\n",
    "        .sort(\"len\", descending=True)\n",
    "        .head(top_x)[col2]\n",
    "        .to_list()\n",
    "    )\n",
    "\n",
    "    # --- Bảng chéo (pivot) ---\n",
    "    pivot_df = (\n",
    "        df.filter(pl.col(col1).is_in(top1) & pl.col(col2).is_in(top2))\n",
    "        .group_by([col1, col2])\n",
    "        .len()\n",
    "        .pivot(values=\"len\", index=col1, columns=col2)\n",
    "        .fill_null(0)\n",
    "    )\n",
    "\n",
    "    # --- Dữ liệu để vẽ ---\n",
    "    data = pivot_df.select(pl.exclude(col1)).to_numpy()\n",
    "    xlabels = pivot_df.columns[1:]\n",
    "    ylabels = pivot_df[col1].to_list()\n",
    "\n",
    "    # --- Vẽ heatmap ---\n",
    "    plt.figure(figsize=(10, 6))\n",
    "    sns.heatmap(\n",
    "        data,\n",
    "        annot=True,\n",
    "        fmt=\".0f\",\n",
    "        cmap=\"YlGnBu\",\n",
    "        xticklabels=xlabels,\n",
    "        yticklabels=ylabels\n",
    "    )\n",
    "    plt.title(f\"Phân bố {col1} × {col2}\", fontsize=13)\n",
    "    plt.xlabel(col2)\n",
    "    plt.ylabel(col1)\n",
    "    plt.tight_layout()\n",
    "\n",
    "    # --- Lưu hình ---\n",
    "    filename = f\"{col1}_{col2}_heatmap.png\".replace(\" \", \"_\")\n",
    "    output_path = os.path.join(output_folder, filename)\n",
    "    plt.savefig(output_path, bbox_inches=\"tight\", dpi=300)\n",
    "\n",
    "    # --- Tuỳ chọn hiển thị ---\n",
    "    if show:\n",
    "        plt.show()\n",
    "    else:\n",
    "        plt.close()\n",
    "\n",
    "    print(f\"✅ Đã lưu biểu đồ heatmap {col1} × {col2} tại: {output_path}\")"
   ]
  },
  {
   "cell_type": "code",
   "execution_count": 20,
   "id": "b2c17187",
   "metadata": {},
   "outputs": [
    {
     "name": "stderr",
     "output_type": "stream",
     "text": [
      "C:\\Users\\tncn2\\AppData\\Local\\Temp\\ipykernel_15280\\3486570824.py:36: DeprecationWarning: the argument `columns` for `DataFrame.pivot` is deprecated. It was renamed to `on` in version 1.0.0.\n",
      "  .pivot(values=\"len\", index=col1, columns=col2)\n"
     ]
    },
    {
     "data": {
      "image/png": "[encoded data removed]",
      "text/plain": [
       "<Figure size 1000x600 with 2 Axes>"
      ]
     },
     "metadata": {},
     "output_type": "display_data"
    },
    {
     "name": "stdout",
     "output_type": "stream",
     "text": [
      "✅ Đã lưu biểu đồ heatmap channel × payment tại: ./images/history-chunk\\channel_payment_heatmap.png\n"
     ]
    }
   ],
   "source": [
    "plot_crosstab_heatmap(history_df, \"channel\", \"payment\")"
   ]
  },
  {
   "cell_type": "markdown",
   "id": "05743430",
   "metadata": {},
   "source": [
    "**Nhận xét:**\n",
    "- **Kênh “In-Store”** chiếm áp đảo toàn bộ giao dịch, đặc biệt với hình thức **“Tiền mặt”** và **“Cà thẻ”** (màu đậm nhất trong heatmap).  \n",
    "  → Điều này phù hợp với đặc thù bán lẻ truyền thống — phần lớn giao dịch trực tiếp tại cửa hàng.  \n",
    "- Các kênh **iOS** và **Android** cũng có phân bố rõ rệt ở các ví điện tử như **MoMo, ZaloPay, VNPay**, phản ánh hành vi thanh toán phổ biến của người dùng di động.  \n",
    "- Các kênh khác như **Web**, **SPE**, hoặc **Call** có số lượng giao dịch rất thấp, thể hiện **mức độ sử dụng hạn chế**.  \n",
    "- Một vài kênh gần như không có dữ liệu thanh toán đáng kể (như **Wholesale**, **CRM Partner**, **Chat**), có thể là do đặc thù hoạt động riêng biệt hoặc dữ liệu bị thiếu."
   ]
  },
  {
   "cell_type": "code",
   "execution_count": 21,
   "id": "1fd78514",
   "metadata": {},
   "outputs": [
    {
     "name": "stderr",
     "output_type": "stream",
     "text": [
      "C:\\Users\\tncn2\\AppData\\Local\\Temp\\ipykernel_15280\\3486570824.py:36: DeprecationWarning: the argument `columns` for `DataFrame.pivot` is deprecated. It was renamed to `on` in version 1.0.0.\n",
      "  .pivot(values=\"len\", index=col1, columns=col2)\n"
     ]
    },
    {
     "data": {
      "image/png": "[encoded data removed]",
      "text/plain": [
       "<Figure size 1000x600 with 2 Axes>"
      ]
     },
     "metadata": {},
     "output_type": "display_data"
    },
    {
     "name": "stdout",
     "output_type": "stream",
     "text": [
      "✅ Đã lưu biểu đồ heatmap channel × location tại: ./images/history-chunk\\channel_location_heatmap.png\n"
     ]
    }
   ],
   "source": [
    "plot_crosstab_heatmap(history_df, \"channel\", \"location\")"
   ]
  },
  {
   "cell_type": "code",
   "execution_count": 22,
   "id": "51e0390f",
   "metadata": {},
   "outputs": [
    {
     "name": "stderr",
     "output_type": "stream",
     "text": [
      "C:\\Users\\tncn2\\AppData\\Local\\Temp\\ipykernel_15280\\3486570824.py:36: DeprecationWarning: the argument `columns` for `DataFrame.pivot` is deprecated. It was renamed to `on` in version 1.0.0.\n",
      "  .pivot(values=\"len\", index=col1, columns=col2)\n"
     ]
    },
    {
     "data": {
      "image/png": "[encoded data removed]",
      "text/plain": [
       "<Figure size 1000x600 with 2 Axes>"
      ]
     },
     "metadata": {},
     "output_type": "display_data"
    },
    {
     "name": "stdout",
     "output_type": "stream",
     "text": [
      "✅ Đã lưu biểu đồ heatmap location × payment tại: ./images/history-chunk\\location_payment_heatmap.png\n"
     ]
    }
   ],
   "source": [
    "plot_crosstab_heatmap(history_df, \"location\", \"payment\")"
   ]
  },
  {
   "cell_type": "code",
   "execution_count": 6,
   "id": "cbf9f10c",
   "metadata": {},
   "outputs": [],
   "source": [
    "def stacked100(df, row, col, top_row=10, top_col=8, outdir=\"./images/history-chunk\", filename=None):\n",
    "    os.makedirs(outdir, exist_ok=True)\n",
    "    if filename is None:\n",
    "        filename = f\"stacked100_{row}_by_{col}.png\"\n",
    "\n",
    "    top_r = df.group_by(row).len().sort(\"len\", descending=True).head(top_row)[row].to_list()\n",
    "    top_c = df.group_by(col).len().sort(\"len\", descending=True).head(top_col)[col].to_list()\n",
    "\n",
    "    pv = (df.filter(pl.col(row).is_in(top_r) & pl.col(col).is_in(top_c))\n",
    "            .group_by([row, col]).len()\n",
    "            .pivot(values=\"len\", index=row, columns=col)\n",
    "            .fill_null(0))\n",
    "    if pv.is_empty(): return None\n",
    "\n",
    "    rows, cols = pv[row].to_list(), pv.columns[1:]\n",
    "    M = pv.select(pl.exclude(row)).to_numpy().astype(float)\n",
    "    M = M / M.sum(axis=1, keepdims=True)\n",
    "\n",
    "    plt.figure(figsize=(10,5))\n",
    "    left = np.zeros(M.shape[0])\n",
    "    for j, c in enumerate(cols):\n",
    "        plt.barh(rows, M[:,j], left=left, label=c)\n",
    "        left += M[:,j]\n",
    "    plt.xlabel(\"Tỷ lệ\"); plt.ylabel(row)\n",
    "    plt.title(f\"Tỷ lệ {col} theo {row} (100%)\")\n",
    "    plt.legend(title=col, bbox_to_anchor=(1.02,1), loc=\"upper left\")\n",
    "    plt.tight_layout()\n",
    "\n",
    "    path = os.path.join(outdir, filename)\n",
    "    plt.savefig(path, dpi=300, bbox_inches=\"tight\"); plt.close()\n",
    "    print(path)\n",
    "    return path"
   ]
  },
  {
   "cell_type": "code",
   "execution_count": 7,
   "id": "b9decc71",
   "metadata": {},
   "outputs": [
    {
     "name": "stderr",
     "output_type": "stream",
     "text": [
      "C:\\Users\\tncn2\\AppData\\Local\\Temp\\ipykernel_10500\\2465017598.py:11: DeprecationWarning: the argument `columns` for `DataFrame.pivot` is deprecated. It was renamed to `on` in version 1.0.0.\n",
      "  .pivot(values=\"len\", index=row, columns=col)\n"
     ]
    },
    {
     "name": "stdout",
     "output_type": "stream",
     "text": [
      "./images/history-chunk\\stacked100_channel_by_payment.png\n",
      "./images/history-chunk\\stacked100_channel_by_location.png\n",
      "./images/history-chunk\\stacked100_payment_by_location.png\n"
     ]
    },
    {
     "data": {
      "text/plain": [
       "'./images/history-chunk\\\\stacked100_payment_by_location.png'"
      ]
     },
     "execution_count": 7,
     "metadata": {},
     "output_type": "execute_result"
    }
   ],
   "source": [
    "stacked100(history_df, \"channel\", \"payment\")\n",
    "stacked100(history_df, \"channel\", \"location\")\n",
    "stacked100(history_df, \"payment\", \"location\", top_row=12, top_col=10)"
   ]
  },
  {
   "cell_type": "code",
   "execution_count": 48,
   "id": "18fa9d4a",
   "metadata": {},
   "outputs": [
    {
     "name": "stdout",
     "output_type": "stream",
     "text": [
      "Lưu: ./images/history-chunk\\scatter_price_discount.png\n",
      "Lưu: ./images/history-chunk\\scatter_price_discount_log1p.png\n",
      "Lưu: ./images/history-chunk\\hexbin_price_discount.png\n"
     ]
    }
   ],
   "source": [
    "output_folder = \"./images/history-chunk\"\n",
    "os.makedirs(output_folder, exist_ok=True)\n",
    "\n",
    "df2 = (history_df\n",
    "       .select([\n",
    "           pl.col(\"price\").cast(pl.Float64).alias(\"price\"),\n",
    "           pl.col(\"discount\").cast(pl.Float64).alias(\"discount\")\n",
    "       ])\n",
    "       .drop_nulls()\n",
    "       .with_columns([\n",
    "           pl.when(pl.col(\"price\")   < 0).then(0).otherwise(pl.col(\"price\")).alias(\"price\"),\n",
    "           pl.when(pl.col(\"discount\")< 0).then(0).otherwise(pl.col(\"discount\")).alias(\"discount\"),\n",
    "       ])\n",
    ")\n",
    "\n",
    "MAX_POINTS = 500_000\n",
    "dfp = df2.sample(n=MAX_POINTS, with_replacement=False, seed=42) if df2.height > MAX_POINTS else df2\n",
    "\n",
    "x = dfp[\"price\"].to_list()\n",
    "y = dfp[\"discount\"].to_list()\n",
    "\n",
    "# 3a) Scatter thường\n",
    "plt.figure(figsize=(7,6))\n",
    "sns.scatterplot(x=x, y=y, s=6, alpha=0.2, edgecolor=None)\n",
    "plt.title(\"Scatter: price vs discount\")\n",
    "plt.xlabel(\"price\"); plt.ylabel(\"discount\")\n",
    "plt.tight_layout()\n",
    "p1 = os.path.join(output_folder, \"scatter_price_discount.png\")\n",
    "plt.savefig(p1, dpi=300, bbox_inches=\"tight\"); plt.close()\n",
    "print(\"Lưu:\", p1)\n",
    "\n",
    "# 3b) Scatter log1p \n",
    "x_log = np.log1p(np.asarray(x)); y_log = np.log1p(np.asarray(y))\n",
    "plt.figure(figsize=(7,6))\n",
    "sns.scatterplot(x=x_log, y=y_log, s=6, alpha=0.2, edgecolor=None)\n",
    "plt.title(\"Scatter (log1p): price vs discount\")\n",
    "plt.xlabel(\"log1p(price)\"); plt.ylabel(\"log1p(discount)\")\n",
    "plt.tight_layout()\n",
    "p2 = os.path.join(output_folder, \"scatter_price_discount_log1p.png\")\n",
    "plt.savefig(p2, dpi=300, bbox_inches=\"tight\"); plt.close()\n",
    "print(\"Lưu:\", p2)\n",
    "\n",
    "plt.figure(figsize=(7,6))\n",
    "plt.hexbin(x, y, gridsize=60, mincnt=1, bins=\"log\", cmap=\"viridis\")\n",
    "plt.colorbar(label=\"log(count)\")\n",
    "plt.title(\"Hexbin: price vs discount\")\n",
    "plt.xlabel(\"price\"); plt.ylabel(\"discount\")\n",
    "plt.tight_layout()\n",
    "p3 = os.path.join(output_folder, \"hexbin_price_discount.png\")\n",
    "plt.savefig(p3, dpi=300, bbox_inches=\"tight\"); plt.close()\n",
    "print(\"Lưu:\", p3)"
   ]
  },
  {
   "cell_type": "markdown",
   "id": "57326143",
   "metadata": {},
   "source": [
    "**Nhận xét:**\n",
    "- Sau khi log-transform, dữ liệu trở nên **phân bố rõ ràng hơn**, không còn bị dồn về góc (0, 0) như trước.  \n",
    "- Có **xu hướng đồng biến nhẹ** giữa `price` và `discount`: sản phẩm có giá cao thường đi kèm với mức giảm giá lớn hơn.  \n",
    "- Tuy nhiên, vẫn xuất hiện **dải điểm nằm ngang ở log(discount) = 0**, biểu thị những sản phẩm **không có giảm giá**.  \n",
    "- Ngoài ra, vẫn tồn tại **một số cụm dày bất thường** ở các mức log(price) ~10–13 và log(discount) ~9–12, cho thấy khả năng **có nhóm sản phẩm giá cao được giảm mạnh theo chương trình nhất định**.  \n",
    "- Không phát hiện mối quan hệ tuyến tính hoàn toàn."
   ]
  },
  {
   "cell_type": "code",
   "execution_count": 8,
   "id": "fa2b4a10",
   "metadata": {},
   "outputs": [
    {
     "name": "stdout",
     "output_type": "stream",
     "text": [
      "rows=35,729,825 | unique user=2,442,306 | unique customer=2,442,306 | unique pairs=2,442,306\n",
      "User -> Customer:  p(=1 customer) = 100.00%,  max=1\n",
      "Customer -> User:  p(=1 user)     = 100.00%,  max=1\n",
      "Quan hệ 1–1 (một-một).\n",
      "\n",
      "Top user có >1 customer:\n",
      "shape: (0, 2)\n",
      "┌─────────┬────────────┐\n",
      "│ user_id ┆ n_customer │\n",
      "│ ---     ┆ ---        │\n",
      "│ str     ┆ u32        │\n",
      "╞═════════╪════════════╡\n",
      "└─────────┴────────────┘\n",
      "\n",
      "Top customer có >1 user:\n",
      "shape: (0, 2)\n",
      "┌─────────────┬────────┐\n",
      "│ customer_id ┆ n_user │\n",
      "│ ---         ┆ ---    │\n",
      "│ i32         ┆ u32    │\n",
      "╞═════════════╪════════╡\n",
      "└─────────────┴────────┘\n"
     ]
    }
   ],
   "source": [
    "df = history_df.select([\"user_id\", \"customer_id\"]).drop_nulls()\n",
    "\n",
    "n_rows       = df.height\n",
    "n_user       = df[\"user_id\"].n_unique()\n",
    "n_customer   = df[\"customer_id\"].n_unique()\n",
    "n_pairs      = df.unique().height\n",
    "\n",
    "print(f\"rows={n_rows:,} | unique user={n_user:,} | unique customer={n_customer:,} | unique pairs={n_pairs:,}\")\n",
    "\n",
    "u_to_c = (df.group_by(\"user_id\")\n",
    "            .agg(pl.col(\"customer_id\").n_unique().alias(\"n_customer\"))\n",
    "            .sort(\"n_customer\", descending=True))\n",
    "\n",
    "c_to_u = (df.group_by(\"customer_id\")\n",
    "            .agg(pl.col(\"user_id\").n_unique().alias(\"n_user\"))\n",
    "            .sort(\"n_user\", descending=True))\n",
    "\n",
    "pct_user_one_customer    = (u_to_c.filter(pl.col(\"n_customer\")==1).height / u_to_c.height)\n",
    "pct_customer_one_user    = (c_to_u.filter(pl.col(\"n_user\")==1).height / c_to_u.height)\n",
    "\n",
    "print(f\"User -> Customer:  p(=1 customer) = {pct_user_one_customer:.2%},  max={u_to_c['n_customer'][0]}\")\n",
    "print(f\"Customer -> User:  p(=1 user)     = {pct_customer_one_user:.2%},  max={c_to_u['n_user'][0]}\")\n",
    "\n",
    "if pct_user_one_customer==1 and pct_customer_one_user==1 and n_pairs==n_user==n_customer:\n",
    "    print(\"Quan hệ 1–1 (một-một).\")\n",
    "elif pct_user_one_customer==1 and pct_customer_one_user<1:\n",
    "    print(\"Quan hệ n–1: mỗi user gắn đúng 1 customer, nhưng 1 customer có nhiều user.\")\n",
    "elif pct_user_one_customer<1 and pct_customer_one_user==1:\n",
    "    print(\"Quan hệ 1–n: mỗi customer gắn đúng 1 user, nhưng 1 user có nhiều customer.\")\n",
    "else:\n",
    "    print(\"Quan hệ n–n: cả hai phía đều có bản ghi gắn nhiều đối tượng.\")\n",
    "\n",
    "print(\"\\nTop user có >1 customer:\")\n",
    "print(u_to_c.filter(pl.col(\"n_customer\")>1).head(10))\n",
    "\n",
    "print(\"\\nTop customer có >1 user:\")\n",
    "print(c_to_u.filter(pl.col(\"n_user\")>1).head(10))"
   ]
  },
  {
   "cell_type": "markdown",
   "id": "90742c03",
   "metadata": {},
   "source": [
    "**Phân tích quan hệ:**\n",
    "- `User → Customer`: 100% user chỉ gắn với **một customer duy nhất**.  \n",
    "- `Customer → User`: 100% customer chỉ gắn với **một user duy nhất**.  \n",
    "- Không có trường hợp nào user hoặc customer liên kết với nhiều bên.\n",
    "\n",
    "**Kết luận:**  \n",
    "Quan hệ giữa **`user_id` và `customer_id` là một – một (1–1)**, thể hiện rằng **mỗi người dùng trong hệ thống tương ứng duy nhất với một khách hàng**.  "
   ]
  },
  {
   "cell_type": "code",
   "execution_count": null,
   "id": "110ad025",
   "metadata": {},
   "outputs": [
    {
     "name": "stderr",
     "output_type": "stream",
     "text": [
      "C:\\Users\\tncn2\\AppData\\Local\\Temp\\ipykernel_22068\\3492777074.py:7: DeprecationWarning: `NUMERIC_DTYPES` was deprecated in version 1.0.0. Define your own data type groups or use the `polars.selectors` module for selecting columns of a certain data type.\n",
      "  numeric_cols = [c for c, dt in history_df.schema.items() if dt in pl.NUMERIC_DTYPES]\n"
     ]
    },
    {
     "name": "stdout",
     "output_type": "stream",
     "text": [
      "Đã lưu heatmap Spearman tại: ./images/history-chunk\\spearman_corr_numeric.png\n",
      "Đã lưu ma trận Spearman CSV tại: ./images/history-chunk\\spearman_corr_numeric.csv\n"
     ]
    }
   ],
   "source": [
    "\n",
    "output_folder = \"./images/history-chunk\"\n",
    "os.makedirs(output_folder, exist_ok=True)\n",
    "\n",
    "# Bao gồm: Int*, Float*, Decimal*, UInt*; loại trừ: Datetime, String, Boolean\n",
    "numeric_cols = [c for c, dt in history_df.schema.items() if dt in pl.NUMERIC_DTYPES]\n",
    "\n",
    "\n",
    "exclude = {\"customer_id\", \"location\"}  # ví dụ: location là mã khu vực (categorical)\n",
    "numeric_cols = [c for c in numeric_cols if c not in exclude]\n",
    "\n",
    "if len(numeric_cols) < 2:\n",
    "    raise ValueError(f\"Không đủ >=2 cột numerical để tính tương quan. Tìm thấy: {numeric_cols}\")\n",
    "\n",
    "# --- 2) Ép kiểu về Float64 để an toàn (kể cả Decimal) ---\n",
    "df_num = history_df.select([pl.col(c).cast(pl.Float64).alias(c) for c in numeric_cols])\n",
    "\n",
    "# --- 3) Tính Spearman: Pearson của thứ hạng ---\n",
    "# Rank từng cột với phương pháp \"average\" cho ties\n",
    "df_rank = df_num.select([pl.col(c).rank(method=\"average\").alias(c) for c in numeric_cols])\n",
    "\n",
    "# Ma trận thứ hạng (rows = samples, cols = variables)\n",
    "R = df_rank.to_numpy()  # shape: (n_samples, n_features)\n",
    "\n",
    "# Pearson correlation trên ma trận rank -> Spearman\n",
    "spearman_corr = np.corrcoef(R, rowvar=False)  # shape: (n_features, n_features)\n",
    "\n",
    "# --- 4) Vẽ heatmap ---\n",
    "plt.figure(figsize=(8, 6))\n",
    "sns.heatmap(\n",
    "    np.nan_to_num(spearman_corr, nan=0.0),  # tránh NaN khi có cột hằng\n",
    "    annot=True, fmt=\".2f\", cmap=\"coolwarm\", square=True,\n",
    "    xticklabels=numeric_cols, yticklabels=numeric_cols\n",
    ")\n",
    "plt.title(\"Spearman Correlation (numeric columns)\", fontsize=13)\n",
    "plt.tight_layout()\n",
    "\n",
    "# --- 5) Lưu ảnh ---\n",
    "out_path = os.path.join(output_folder, \"spearman_corr_numeric.png\")\n",
    "plt.savefig(out_path, bbox_inches=\"tight\", dpi=300)\n",
    "plt.close()\n",
    "print(f\"Đã lưu heatmap Spearman tại: {out_path}\")\n",
    "\n",
    "# --- 6) (Tuỳ chọn) Lưu ma trận ra CSV bằng Polars ---\n",
    "spearman_pl = pl.DataFrame(spearman_corr, schema=numeric_cols).with_columns(\n",
    "    pl.Series(\"feature\", numeric_cols)\n",
    ").select([\"feature\", *numeric_cols])\n",
    "\n",
    "csv_path = os.path.join(output_folder, \"spearman_corr_numeric.csv\")\n",
    "spearman_pl.write_csv(csv_path)\n",
    "print(f\"Đã lưu ma trận Spearman CSV tại: {csv_path}\")"
   ]
  },
  {
   "cell_type": "code",
   "execution_count": 15,
   "id": "5b29f8cf",
   "metadata": {},
   "outputs": [
    {
     "name": "stdout",
     "output_type": "stream",
     "text": [
      "identical=True, spearman=1.000000, pearson=1.000000\n"
     ]
    }
   ],
   "source": [
    "df2 = history_df.select([\n",
    "    pl.col(\"event_value\").cast(pl.Float64).alias(\"y\"),\n",
    "    pl.col(\"quantity\").cast(pl.Float64).alias(\"x\"),\n",
    "]).drop_nulls()\n",
    "\n",
    "# 2) Kiểm tra có giống hệt nhau không (max |y - x| == 0)\n",
    "same = df2.select((pl.col(\"y\") - pl.col(\"x\")).abs().max()).item() == 0.0\n",
    "\n",
    "# 3) Pearson (≈1 nếu tuyến tính mạnh)\n",
    "pearson = df2.select(pl.corr(\"y\", \"x\")).item()\n",
    "\n",
    "# 4) Spearman (đơn điệu hoàn hảo nếu =1.0)\n",
    "# Cách A (nếu bản Polars hỗ trợ):\n",
    "# spearman = df2.select(pl.spearman_rank_corr(\"y\",\"x\")).item()\n",
    "# Cách B (an toàn mọi phiên bản): Pearson của thứ hạng\n",
    "spearman = df2.select(\n",
    "    pl.corr(pl.col(\"y\").rank(\"average\"), pl.col(\"x\").rank(\"average\"))\n",
    ").item()\n",
    "\n",
    "print(f\"identical={same}, spearman={spearman:.6f}, pearson={pearson:.6f}\")"
   ]
  },
  {
   "cell_type": "markdown",
   "id": "af520a42",
   "metadata": {},
   "source": [
    "- `identical = True` → Hai cột **trùng khớp tuyệt đối** theo từng dòng.\n",
    "- `Spearman = 1.000000` → **Quan hệ đơn điệu hoàn hảo** (xếp hạng giống hệt).\n",
    "- `Pearson = 1.000000` → **Quan hệ tuyến tính hoàn hảo** (một cột là hằng số nhân/đổi đơn vị của cột kia).\n",
    "\n",
    "**Kết luận**\n",
    "\n",
    "- `event_value` và `quantity` **mang đúng cùng một thông tin** ⇒ **nên giữ 1 cột, bỏ 1 cột** để tránh dư thừa và đa cộng tuyến.\n"
   ]
  },
  {
   "cell_type": "code",
   "execution_count": null,
   "id": "3bf708b6",
   "metadata": {},
   "outputs": [],
   "source": [
    "def boxplot_by_cat(df, num_col, cat_col, top=10, outdir=\"./images/history-chunk\", filename=None):\n",
    "    os.makedirs(outdir, exist_ok=True)\n",
    "    if filename is None:\n",
    "        filename = f\"box_{num_col}_by_{cat_col}.png\"\n",
    "\n",
    "    # Lọc top nhóm để tránh quá nhiều nhãn\n",
    "    top_vals = (df.group_by(cat_col).len()\n",
    "                  .sort(\"len\", descending=True)\n",
    "                  .head(top)[cat_col].to_list())\n",
    "    \n",
    "    sub = (df.filter(pl.col(cat_col).is_in(top_vals))\n",
    "             .select([pl.col(num_col).cast(pl.Float64), pl.col(cat_col)])\n",
    "             .drop_nulls())\n",
    "\n",
    "    if sub.height == 0:\n",
    "        print(f\"Không có dữ liệu hợp lệ cho {num_col} theo {cat_col}\")\n",
    "        return None\n",
    "\n",
    "    plt.figure(figsize=(9,5))\n",
    "    sns.boxplot(x=sub[cat_col].to_list(), y=sub[num_col].to_list())\n",
    "    plt.xticks(rotation=25, ha=\"right\")\n",
    "    plt.title(f\"Phân phối {num_col} theo {cat_col}\")\n",
    "    plt.xlabel(cat_col); plt.ylabel(num_col)\n",
    "    plt.tight_layout()\n",
    "\n",
    "    path = os.path.join(outdir, filename)\n",
    "    plt.savefig(path, dpi=300, bbox_inches=\"tight\")\n",
    "    plt.close()\n",
    "    print(path)\n",
    "    return path"
   ]
  },
  {
   "cell_type": "code",
   "execution_count": 10,
   "id": "bc812394",
   "metadata": {},
   "outputs": [
    {
     "name": "stdout",
     "output_type": "stream",
     "text": [
      "./images/history-chunk\\box_price_by_channel.png\n",
      "./images/history-chunk\\box_price_by_payment.png\n"
     ]
    },
    {
     "data": {
      "text/plain": [
       "'./images/history-chunk\\\\box_price_by_payment.png'"
      ]
     },
     "execution_count": 10,
     "metadata": {},
     "output_type": "execute_result"
    }
   ],
   "source": [
    "# Boxplot: price theo channel\n",
    "boxplot_by_cat(history_df, num_col=\"price\", cat_col=\"channel\",\n",
    "               top=12, filename=\"box_price_by_channel.png\")\n",
    "\n",
    "# Boxplot: price theo payment\n",
    "boxplot_by_cat(history_df, num_col=\"price\", cat_col=\"payment\",\n",
    "               top=12, filename=\"box_price_by_payment.png\")"
   ]
  },
  {
   "cell_type": "code",
   "execution_count": 11,
   "id": "9fca1819",
   "metadata": {},
   "outputs": [],
   "source": [
    "def boxplot_log(df, num_col, cat_col, top=10, outdir=\"./images/history-chunk\", filename=None):\n",
    "    os.makedirs(outdir, exist_ok=True)\n",
    "    if filename is None:\n",
    "        filename = f\"boxlog_{num_col}_by_{cat_col}.png\"\n",
    "\n",
    "    # Lấy top nhóm phổ biến nhất\n",
    "    top_vals = (df.group_by(cat_col).len()\n",
    "                  .sort(\"len\", descending=True)\n",
    "                  .head(top)[cat_col].to_list())\n",
    "\n",
    "    # Lấy dữ liệu numeric + log transform\n",
    "    sub = (df.filter(pl.col(cat_col).is_in(top_vals))\n",
    "             .select([pl.col(cat_col), pl.col(num_col).cast(pl.Float64)])\n",
    "             .drop_nulls())\n",
    "    if sub.height == 0:\n",
    "        print(f\"Không có dữ liệu cho {num_col} theo {cat_col}\")\n",
    "        return None\n",
    "\n",
    "    sub = sub.with_columns(np.log1p(pl.col(num_col)).alias(\"log_val\"))\n",
    "\n",
    "    # Vẽ boxplot\n",
    "    plt.figure(figsize=(9,5))\n",
    "    sns.boxplot(x=sub[cat_col].to_list(), y=sub[\"log_val\"].to_list(), color=\"lightblue\")\n",
    "    plt.xticks(rotation=25, ha=\"right\")\n",
    "    plt.title(f\"log(1+{num_col}) theo {cat_col}\")\n",
    "    plt.xlabel(cat_col); plt.ylabel(f\"log(1+{num_col})\")\n",
    "    plt.tight_layout()\n",
    "\n",
    "    path = os.path.join(outdir, filename)\n",
    "    plt.savefig(path, dpi=300, bbox_inches=\"tight\")\n",
    "    plt.close()\n",
    "    print(\"✅ Lưu tại:\", path)\n",
    "    return path"
   ]
  },
  {
   "cell_type": "code",
   "execution_count": 12,
   "id": "f8928ac8",
   "metadata": {},
   "outputs": [
    {
     "name": "stdout",
     "output_type": "stream",
     "text": [
      "✅ Lưu tại: ./images/history-chunk\\boxlog_price_by_channel.png\n",
      "✅ Lưu tại: ./images/history-chunk\\boxlog_price_by_payment.png\n"
     ]
    },
    {
     "data": {
      "text/plain": [
       "'./images/history-chunk\\\\boxlog_price_by_payment.png'"
      ]
     },
     "execution_count": 12,
     "metadata": {},
     "output_type": "execute_result"
    }
   ],
   "source": [
    "# Boxplot log(1+price) theo channel\n",
    "boxplot_log(history_df, \"price\", \"channel\", filename=\"boxlog_price_by_channel.png\")\n",
    "\n",
    "# Boxplot log(1+price) theo payment\n",
    "boxplot_log(history_df, \"price\", \"payment\", filename=\"boxlog_price_by_payment.png\")"
   ]
  },
  {
   "cell_type": "markdown",
   "id": "8be0a45b",
   "metadata": {},
   "source": [
    "# Task 3: \n",
    "- Những trường thông tin nào không có nhiều thông tin --> nên loại bỏ\n",
    "- Những trường thông tin nào cần xử lý NULL\n",
    "- Những trường thông tin nào cần xử lý ngoại lệ (Outlier)\n",
    "- Những trường thông tin nào cần xử lý phân bố không đều?"
   ]
  },
  {
   "cell_type": "markdown",
   "id": "b59909b0",
   "metadata": {},
   "source": [
    "# Sau đây là các bước cần làm ở **data preprocessing** sau khi EDA\n",
    "\n",
    "---\n",
    "\n",
    "## I. Xử lý các trường **không có nhiều thông tin**\n",
    "**Gồm:** `event_type`, `is_deleted`\n",
    "\n",
    "### 1) `event_type`\n",
    "- **Lý do (EDA):** Chỉ có **1 giá trị duy nhất** `\"Purchase\"` trên **35.7M** dòng → biến hằng, **không mang thông tin phân tách**.\n",
    "- **Xử lý:** **Loại bỏ** khỏi tập đặc trưng.\n",
    "\n",
    "### 2) `is_deleted`\n",
    "- **Lý do (EDA):** Toàn bộ bản ghi có giá trị **`false` (35.7M/35.7M)** → biến hằng.\n",
    "- **Xử lý:** **Loại bỏ** khỏi tập đặc trưng.\n",
    "\n",
    "---\n",
    "\n",
    "## II. Xử lý các trường **có ngoại lệ (Outlier)**\n",
    "**Gồm:** `price`, `quantity`, `discount`\n",
    "\n",
    "### 1) `price`\n",
    "- **Lý do (EDA):**\n",
    "  - **Mean = 169,188₫**, **Median = 87,000₫**, **Std ≈ 195,540₫**, **Min ≈ 0.044₫**, **Max ≈ 20,990,000₫** → **lệch phải mạnh**, có **rất nhiều outlier**; giá cực thấp khả năng **lỗi nhập liệu**.\n",
    "  - Histogram (log) có **2 đỉnh** (≈ **log 10–12.5** tương đương **22k–270k**), Boxplot có nhiều điểm cực trị.\n",
    "- **Xử lý đề xuất:**\n",
    "  - Dùng **log1p** khi model/visualize.\n",
    "  - **Làm sạch min bất thường** (ví dụ loại < 100₫ hoặc kiểm tra nguồn).\n",
    "  - **Winsorize/clip** ở **[1%, 99%]** hoặc theo **IQR** cho modeling nhạy cảm với outlier.\n",
    "\n",
    "### 2) `quantity`\n",
    "- **Lý do (EDA):**\n",
    "  - Phần lớn **= 1**, có **đuôi rất dài** (khách nhiều đơn) → **right-skewed**, xuất hiện nhiều điểm xa (outlier).\n",
    "  - `quantity` **trùng hoàn toàn** với `event_value` (xem mục V) ⇒ nên giữ **một cột**.\n",
    "- **Xử lý đề xuất:**\n",
    "  - Dùng **log1p(quantity)** cho phân tích/mô hình.\n",
    "  - Nếu cần khử nhiễu, **clip** ở **P99** (hoặc IQR).\n",
    "  - **Giữ `quantity`, bỏ `event_value`** để tránh trùng thông tin.\n",
    "\n",
    "### 3) `discount`\n",
    "- **Lý do (EDA):**\n",
    "  - **Median = 0**, **Mean ≈ 17,235**, **Std ≈ 46,674**, **Max ≈ 7,995,000** → **lệch phải rất mạnh**.\n",
    "  - Histogram **2 đỉnh**: **đỉnh lớn tại 0** (không giảm) và **đỉnh nhỏ tại log≈10** (giảm thật sự) → **hai nhóm tự nhiên**.\n",
    "- **Xử lý đề xuất:**\n",
    "  - Dùng **log1p(discount)** cho mô hình.\n",
    "  - Tạo biến **nhị phân**: `has_discount = (discount > 0)` để tách **2 nhóm**.\n",
    "  - Với mô hình nhạy outlier: **clip** ở **P99** (giữ lại cấu trúc nhưng giảm ảnh hưởng cực trị).\n",
    "\n",
    "---\n",
    "\n",
    "## IV. Xử lý các trường **có phân bố không đồng đều**\n",
    "**Gồm:** `location`, `discount`, `channel`\n",
    "\n",
    "### 1) `location`\n",
    "- **Lý do (EDA):** Rất mất cân bằng: một số `location` có **>300k** bản ghi, đa số chỉ **vài trăm** → ngay cả thang **log** vẫn thấy **chênh lệch lớn**.\n",
    "- **Xử lý đề xuất:**\n",
    "  - **Gộp/nhóm** các `location` hiếm thành `\"Other\"` theo ngưỡng (ví dụ < 0.1% tổng số).\n",
    "  - Dùng **target/frequency encoding** thay vì one-hot tràn chiều.\n",
    "  - **Stratify** theo `location` khi chia train/test.\n",
    "\n",
    "### 2) `discount` (không đồng đều 0 vs >0)\n",
    "- **Lý do (EDA):** **Áp đảo ở 0** (không giảm), phần còn lại tập trung quanh log≈10.\n",
    "- **Xử lý đề xuất:**\n",
    "  - Tạo biến **`has_discount`** để mô hình nắm được **mất cân bằng** giữa hai nhóm.\n",
    "  - Khi đánh giá, **báo cáo theo từng nhóm** `has_discount`.\n",
    "\n",
    "### 3) `channel`\n",
    "- **Lý do (EDA):** **“In-Store” ≈ 33,016,358/35,729,825 (>90%)**. Các kênh như **TKS/Wholesale** cực hiếm.\n",
    "- **Xử lý đề xuất:**\n",
    "  - **Gộp** kênh hiếm vào `\"Other\"`.\n",
    "  - Khi huấn luyện, cân nhắc **class weighting** hoặc **stratified split** theo `channel`.\n",
    "  - Phân tích kết quả **riêng theo kênh** để tránh thiên lệch từ “In-Store”.\n",
    "\n",
    "---\n",
    "\n",
    "## V. Xử lý các **cặp trường có độ tương quan cao**\n",
    "**Gồm:** `user_id` ↔ `customer_id`, `event_value` ↔ `quantity`\n",
    "\n",
    "### 1) `user_id` và `customer_id`\n",
    "- **Bằng chứng (EDA):**\n",
    "  - **rows=35,729,825**, **unique user=2,442,306**, **unique customer=2,442,306**, **unique pairs=2,442,306**.  \n",
    "  - **User→Customer = 100% 1-1**, **Customer→User = 100% 1-1**.\n",
    "- **Kết luận & xử lý:** Hai cột **trùng thực thể** (quan hệ **1–1**) → **giữ 1 cột** (tuỳ nghiệp vụ: hành vi ⇒ `user_id`; giao dịch/CRM ⇒ `customer_id`).\n",
    "\n",
    "### 2) `event_value` và `quantity`\n",
    "- **Bằng chứng (EDA):**  \n",
    "  `identical = True`, **Spearman = 1.000000**, **Pearson = 1.000000** → **trùng khớp tuyệt đối / tuyến tính hoàn hảo**.\n",
    "- **Kết luận & xử lý:** Hai cột **mang cùng thông tin** → **giữ 1 cột** (khuyến nghị **`quantity`**) để **tránh dư thừa và đa cộng tuyến**."
   ]
  },
  {
   "cell_type": "markdown",
   "id": "90757984",
   "metadata": {},
   "source": []
  }
 ],
 "metadata": {
  "kernelspec": {
   "display_name": ".venv",
   "language": "python",
   "name": "python3"
  },
  "language_info": {
   "codemirror_mode": {
    "name": "ipython",
    "version": 3
   },
   "file_extension": ".py",
   "mimetype": "text/x-python",
   "name": "python",
   "nbconvert_exporter": "python",
   "pygments_lexer": "ipython3",
   "version": "3.13.7"
  }
 },
 "nbformat": 4,
 "nbformat_minor": 5
}
