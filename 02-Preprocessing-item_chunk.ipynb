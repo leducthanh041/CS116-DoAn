{
 "cells": [
  {
   "cell_type": "code",
   "execution_count": 3,
   "id": "0671cbcc",
   "metadata": {},
   "outputs": [
    {
     "name": "stdout",
     "output_type": "stream",
     "text": [
      "Số dòng: 27,332, Số cột: 34\n"
     ]
    }
   ],
   "source": [
    "import polars as pl\n",
    "import os\n",
    "\n",
    "DATA_PATH = r\"D:\\003. HK1 - Năm 3\\02. CS116 - Python cho Máy học\\CS116-DoAn\\dataset\\sales_pers.item_chunk_0.parquet\"\n",
    "\n",
    "df = pl.read_parquet(DATA_PATH)\n",
    "print(f\"Số dòng: {df.height:,}, Số cột: {df.width}\")\n"
   ]
  },
  {
   "cell_type": "code",
   "execution_count": 4,
   "id": "bad2ccf9",
   "metadata": {},
   "outputs": [
    {
     "name": "stdout",
     "output_type": "stream",
     "text": [
      "\n",
      "Các cột ban đầu:\n",
      "['p_id', 'item_id', 'price', 'category_l1_id', 'category_l1', 'category_l2_id', 'category_l2', 'category_l3_id', 'category_l3', 'category_id', 'category', 'description', 'brand', 'manufacturer', 'creation_timestamp', 'is_deleted', 'created_date', 'updated_date', 'sync_status_id', 'last_sync_date', 'sync_error_message', 'image_url', 'gender_target', 'age_group', 'item_type', 'gp', 'weight', 'color', 'size', 'origin', 'volume', 'material', 'sale_status', 'description_new']\n"
     ]
    }
   ],
   "source": [
    "print(\"\\nCác cột ban đầu:\")\n",
    "print(df.columns)"
   ]
  },
  {
   "cell_type": "markdown",
   "id": "ff852e11",
   "metadata": {},
   "source": [
    "# Task 1: Loại bỏ các cột mà nhóm nghĩ là không cần thiết."
   ]
  },
  {
   "cell_type": "code",
   "execution_count": 8,
   "id": "5662a27f",
   "metadata": {},
   "outputs": [
    {
     "name": "stdout",
     "output_type": "stream",
     "text": [
      "\n",
      "Đã loại bỏ 20 cột không cần thiết.\n",
      "Số cột còn lại: 14\n",
      "\n",
      "Danh sách cột sau khi loại bỏ:\n",
      "['item_id', 'price', 'category', 'description', 'brand', 'gender_target', 'age_group', 'item_type', 'color', 'size', 'origin', 'material', 'sale_status', 'description_new']\n",
      "\n",
      "Dữ liệu sau Task 1 đã được lưu tại:\n",
      "D:\\003. HK1 - Năm 3\\02. CS116 - Python cho Máy học\\CS116-DoAn\\data\\item-chunk\\item_chunk_task1_cleaned.parquet\n"
     ]
    }
   ],
   "source": [
    "# --- Danh sách cột cần loại bỏ (theo phân tích EDA & tương quan) ---\n",
    "cols_to_drop = [\n",
    "    # Cột phân cấp danh mục (trùng lặp với category)\n",
    "    \"category_l1\", \"category_l2\", \"category_l3\",\n",
    "    \"category_l1_id\", \"category_l2_id\", \"category_l3_id\",\n",
    "    \"category_id\",\n",
    "\n",
    "    # Cột định lượng thừa / không dùng\n",
    "    \"gp\", \"weight\",\n",
    "\n",
    "    # Cột metadata hệ thống\n",
    "    \"manufacturer\", \"is_deleted\", \"sync_status_id\",\n",
    "    \"sync_error_message\", \"image_url\", \"last_sync_date\",\n",
    "    \"volume\", \"creation_timestamp\", \"updated_date\", \"created_date\",\n",
    "\n",
    "    # Cột ID nội bộ\n",
    "    \"p_id\"\n",
    "]\n",
    "\n",
    "\n",
    "# --- Loại bỏ các cột không cần thiết ---\n",
    "df_cleaned = df.drop(cols_to_drop)\n",
    "\n",
    "print(f\"\\nĐã loại bỏ {len(cols_to_drop)} cột không cần thiết.\")\n",
    "print(f\"Số cột còn lại: {df_cleaned.width}\")\n",
    "print(\"\\nDanh sách cột sau khi loại bỏ:\")\n",
    "print(df_cleaned.columns)\n",
    "\n",
    "# --- Xuất dữ liệu sau Task 1 ---\n",
    "OUTPUT_DIR = r\"D:\\003. HK1 - Năm 3\\02. CS116 - Python cho Máy học\\CS116-DoAn\\data\\item-chunk\"\n",
    "os.makedirs(OUTPUT_DIR, exist_ok=True)\n",
    "OUTPUT_PATH = os.path.join(OUTPUT_DIR, \"item_chunk_task1_cleaned.parquet\")\n",
    "\n",
    "df_cleaned.write_parquet(OUTPUT_PATH)\n",
    "\n",
    "print(f\"\\nDữ liệu sau Task 1 đã được lưu tại:\\n{OUTPUT_PATH}\")"
   ]
  },
  {
   "cell_type": "code",
   "execution_count": 10,
   "id": "0fc36ad1",
   "metadata": {},
   "outputs": [
    {
     "data": {
      "text/html": [
       "<div><style>\n",
       ".dataframe > thead > tr,\n",
       ".dataframe > tbody > tr {\n",
       "  text-align: right;\n",
       "  white-space: pre-wrap;\n",
       "}\n",
       "</style>\n",
       "<small>shape: (27_332, 14)</small><table border=\"1\" class=\"dataframe\"><thead><tr><th>item_id</th><th>price</th><th>category</th><th>description</th><th>brand</th><th>gender_target</th><th>age_group</th><th>item_type</th><th>color</th><th>size</th><th>origin</th><th>material</th><th>sale_status</th><th>description_new</th></tr><tr><td>str</td><td>decimal[38,4]</td><td>str</td><td>str</td><td>str</td><td>str</td><td>str</td><td>str</td><td>str</td><td>str</td><td>str</td><td>str</td><td>i32</td><td>str</td></tr></thead><tbody><tr><td>&quot;0502020000004&quot;</td><td>99000.0000</td><td>&quot;Núm ty Dr Brown&quot;</td><td>&quot;Không xác định&quot;</td><td>&quot;Dr.Brown&#x27;s&quot;</td><td>&quot;Không xác định&quot;</td><td>&quot;Không xác định&quot;</td><td>&quot;Không xác định&quot;</td><td>&quot;Không xác định&quot;</td><td>&quot;Không xác định&quot;</td><td>&quot;Không xác định&quot;</td><td>&quot;Không xác định&quot;</td><td>0</td><td>&quot;Chi tiết sản phẩm&nbsp;&nbsp;&nbsp;&nbsp;&nbsp;&nbsp;&nbsp;&nbsp;&nbsp;&nbsp;&nbsp;&nbsp;&nbsp;…</td></tr><tr><td>&quot;0010290040150&quot;</td><td>69000.0000</td><td>&quot;Bộ quần áo bé gái&quot;</td><td>&quot;Không xác định&quot;</td><td>&quot;Con Cưng&quot;</td><td>&quot;Bé Gái&quot;</td><td>&quot;Từ 3Y&quot;</td><td>&quot;Bộ quần áo&quot;</td><td>&quot;Không xác định&quot;</td><td>&quot;Không xác định&quot;</td><td>&quot;Không xác định&quot;</td><td>&quot;Không xác định&quot;</td><td>0</td><td>&quot;Không xác định&quot;</td></tr><tr><td>&quot;0008010000015&quot;</td><td>45000.0000</td><td>&quot;Gặm nướu khác&quot;</td><td>&quot;- Chất liệu: Sản phẩm được làm…</td><td>&quot;Thương hiệu khác&quot;</td><td>&quot;Không xác định&quot;</td><td>&quot;Không xác định&quot;</td><td>&quot;Không xác định&quot;</td><td>&quot;Không xác định&quot;</td><td>&quot;Không xác định&quot;</td><td>&quot;Không xác định&quot;</td><td>&quot;Không xác định&quot;</td><td>0</td><td>&quot;Chi tiết sản phẩm&nbsp;&nbsp;&nbsp;&nbsp;&nbsp;&nbsp;&nbsp;&nbsp;&nbsp;&nbsp;&nbsp;&nbsp;&nbsp;…</td></tr><tr><td>&quot;0020010000094&quot;</td><td>401000.0000</td><td>&quot;Merries_Sơ Sinh&quot;</td><td>&quot;﻿﻿Tã dán Merries size S 82 miế…</td><td>&quot;Merries Nhật&quot;</td><td>&quot;Không xác định&quot;</td><td>&quot;Không xác định&quot;</td><td>&quot;Không xác định&quot;</td><td>&quot;Không xác định&quot;</td><td>&quot;Không xác định&quot;</td><td>&quot;Nhật Bản, Nhật Bản&quot;</td><td>&quot;Giấy, bột giấy, vải không dệt,…</td><td>0</td><td>&quot;Không xác định&quot;</td></tr><tr><td>&quot;0020010000098&quot;</td><td>401000.0000</td><td>&quot;Merries_Tã Quần&quot;</td><td>&quot;﻿﻿﻿Bỉm tã quần Merries size M …</td><td>&quot;Merries Nhật&quot;</td><td>&quot;Không xác định&quot;</td><td>&quot;Không xác định&quot;</td><td>&quot;Không xác định&quot;</td><td>&quot;Không xác định&quot;</td><td>&quot;Không xác định&quot;</td><td>&quot;Nhật Bản, Nhật Bản&quot;</td><td>&quot;Giấy, bột giấy, vải không dệt,…</td><td>0</td><td>&quot;Không xác định&quot;</td></tr><tr><td>&hellip;</td><td>&hellip;</td><td>&hellip;</td><td>&hellip;</td><td>&hellip;</td><td>&hellip;</td><td>&hellip;</td><td>&hellip;</td><td>&hellip;</td><td>&hellip;</td><td>&hellip;</td><td>&hellip;</td><td>&hellip;</td><td>&hellip;</td></tr><tr><td>&quot;3389000000238&quot;</td><td>129000.0000</td><td>&quot;Đầm bé gái Animo Easy&quot;</td><td>&quot;Không xác định&quot;</td><td>&quot;Animo&quot;</td><td>&quot;Không xác định&quot;</td><td>&quot;Không xác định&quot;</td><td>&quot;Không xác định&quot;</td><td>&quot;Không xác định&quot;</td><td>&quot;Không xác định&quot;</td><td>&quot;Không xác định&quot;</td><td>&quot;Không xác định&quot;</td><td>1</td><td>&quot;Không xác định&quot;</td></tr><tr><td>&quot;3389000000212&quot;</td><td>129000.0000</td><td>&quot;Đầm bé gái Animo Easy&quot;</td><td>&quot;Không xác định&quot;</td><td>&quot;Animo&quot;</td><td>&quot;Không xác định&quot;</td><td>&quot;Không xác định&quot;</td><td>&quot;Không xác định&quot;</td><td>&quot;Không xác định&quot;</td><td>&quot;Không xác định&quot;</td><td>&quot;Không xác định&quot;</td><td>&quot;Không xác định&quot;</td><td>1</td><td>&quot;Không xác định&quot;</td></tr><tr><td>&quot;3389000000213&quot;</td><td>129000.0000</td><td>&quot;Đầm bé gái Animo Easy&quot;</td><td>&quot;Không xác định&quot;</td><td>&quot;Animo&quot;</td><td>&quot;Không xác định&quot;</td><td>&quot;Không xác định&quot;</td><td>&quot;Không xác định&quot;</td><td>&quot;Không xác định&quot;</td><td>&quot;Không xác định&quot;</td><td>&quot;Không xác định&quot;</td><td>&quot;Không xác định&quot;</td><td>1</td><td>&quot;Không xác định&quot;</td></tr><tr><td>&quot;6996000000174&quot;</td><td>129000.0000</td><td>&quot;Hero lẻ 129k&quot;</td><td>&quot;﻿﻿﻿Bộ modal kháng khuẩn ngắn A…</td><td>&quot;Animo&quot;</td><td>&quot;Không xác định&quot;</td><td>&quot;Không xác định&quot;</td><td>&quot;Không xác định&quot;</td><td>&quot;Không xác định&quot;</td><td>&quot;0-3M&quot;</td><td>&quot;Việt Nam&quot;</td><td>&quot;95% modal 5% spandex&quot;</td><td>1</td><td>&quot;Không xác định&quot;</td></tr><tr><td>&quot;5999000000001&quot;</td><td>745000.0000</td><td>&quot;Ghế ngồi ăn Mastela&quot;</td><td>&quot;﻿﻿﻿﻿﻿﻿Ghế ăn dặm điều chỉnh độ…</td><td>&quot;Mastela&quot;</td><td>&quot;Không xác định&quot;</td><td>&quot;Không xác định&quot;</td><td>&quot;Không xác định&quot;</td><td>&quot;Không xác định&quot;</td><td>&quot;Không xác định&quot;</td><td>&quot;Không xác định&quot;</td><td>&quot;Không xác định&quot;</td><td>1</td><td>&quot;Chi tiết sản phẩmTên sản phẩm:…</td></tr></tbody></table></div>"
      ],
      "text/plain": [
       "shape: (27_332, 14)\n",
       "┌───────────┬───────────┬───────────┬───────────┬───┬───────────┬───────────┬───────────┬──────────┐\n",
       "│ item_id   ┆ price     ┆ category  ┆ descripti ┆ … ┆ origin    ┆ material  ┆ sale_stat ┆ descript │\n",
       "│ ---       ┆ ---       ┆ ---       ┆ on        ┆   ┆ ---       ┆ ---       ┆ us        ┆ ion_new  │\n",
       "│ str       ┆ decimal[3 ┆ str       ┆ ---       ┆   ┆ str       ┆ str       ┆ ---       ┆ ---      │\n",
       "│           ┆ 8,4]      ┆           ┆ str       ┆   ┆           ┆           ┆ i32       ┆ str      │\n",
       "╞═══════════╪═══════════╪═══════════╪═══════════╪═══╪═══════════╪═══════════╪═══════════╪══════════╡\n",
       "│ 050202000 ┆ 99000.000 ┆ Núm ty Dr ┆ Không xác ┆ … ┆ Không xác ┆ Không xác ┆ 0         ┆ Chi tiết │\n",
       "│ 0004      ┆ 0         ┆ Brown     ┆ định      ┆   ┆ định      ┆ định      ┆           ┆ sản phẩm │\n",
       "│           ┆           ┆           ┆           ┆   ┆           ┆           ┆           ┆ …        │\n",
       "│ 001029004 ┆ 69000.000 ┆ Bộ quần   ┆ Không xác ┆ … ┆ Không xác ┆ Không xác ┆ 0         ┆ Không    │\n",
       "│ 0150      ┆ 0         ┆ áo bé gái ┆ định      ┆   ┆ định      ┆ định      ┆           ┆ xác định │\n",
       "│ 000801000 ┆ 45000.000 ┆ Gặm nướu  ┆ - Chất    ┆ … ┆ Không xác ┆ Không xác ┆ 0         ┆ Chi tiết │\n",
       "│ 0015      ┆ 0         ┆ khác      ┆ liệu: Sản ┆   ┆ định      ┆ định      ┆           ┆ sản phẩm │\n",
       "│           ┆           ┆           ┆ phẩm được ┆   ┆           ┆           ┆           ┆ …        │\n",
       "│           ┆           ┆           ┆ làm…      ┆   ┆           ┆           ┆           ┆          │\n",
       "│ 002001000 ┆ 401000.00 ┆ Merries_S ┆ ﻿﻿Tã dán    ┆ … ┆ Nhật Bản, ┆ Giấy, bột ┆ 0         ┆ Không    │\n",
       "│ 0094      ┆ 00        ┆ ơ Sinh    ┆ Merries   ┆   ┆ Nhật Bản  ┆ giấy, vải ┆           ┆ xác định │\n",
       "│           ┆           ┆           ┆ size S 82 ┆   ┆           ┆ không     ┆           ┆          │\n",
       "│           ┆           ┆           ┆ miế…      ┆   ┆           ┆ dệt,…     ┆           ┆          │\n",
       "│ 002001000 ┆ 401000.00 ┆ Merries_T ┆ ﻿﻿﻿Bỉm tã    ┆ … ┆ Nhật Bản, ┆ Giấy, bột ┆ 0         ┆ Không    │\n",
       "│ 0098      ┆ 00        ┆ ã Quần    ┆ quần      ┆   ┆ Nhật Bản  ┆ giấy, vải ┆           ┆ xác định │\n",
       "│           ┆           ┆           ┆ Merries   ┆   ┆           ┆ không     ┆           ┆          │\n",
       "│           ┆           ┆           ┆ size M …  ┆   ┆           ┆ dệt,…     ┆           ┆          │\n",
       "│ …         ┆ …         ┆ …         ┆ …         ┆ … ┆ …         ┆ …         ┆ …         ┆ …        │\n",
       "│ 338900000 ┆ 129000.00 ┆ Đầm bé    ┆ Không xác ┆ … ┆ Không xác ┆ Không xác ┆ 1         ┆ Không    │\n",
       "│ 0238      ┆ 00        ┆ gái Animo ┆ định      ┆   ┆ định      ┆ định      ┆           ┆ xác định │\n",
       "│           ┆           ┆ Easy      ┆           ┆   ┆           ┆           ┆           ┆          │\n",
       "│ 338900000 ┆ 129000.00 ┆ Đầm bé    ┆ Không xác ┆ … ┆ Không xác ┆ Không xác ┆ 1         ┆ Không    │\n",
       "│ 0212      ┆ 00        ┆ gái Animo ┆ định      ┆   ┆ định      ┆ định      ┆           ┆ xác định │\n",
       "│           ┆           ┆ Easy      ┆           ┆   ┆           ┆           ┆           ┆          │\n",
       "│ 338900000 ┆ 129000.00 ┆ Đầm bé    ┆ Không xác ┆ … ┆ Không xác ┆ Không xác ┆ 1         ┆ Không    │\n",
       "│ 0213      ┆ 00        ┆ gái Animo ┆ định      ┆   ┆ định      ┆ định      ┆           ┆ xác định │\n",
       "│           ┆           ┆ Easy      ┆           ┆   ┆           ┆           ┆           ┆          │\n",
       "│ 699600000 ┆ 129000.00 ┆ Hero lẻ   ┆ ﻿﻿﻿Bộ modal  ┆ … ┆ Việt Nam  ┆ 95% modal ┆ 1         ┆ Không    │\n",
       "│ 0174      ┆ 00        ┆ 129k      ┆ kháng     ┆   ┆           ┆ 5%        ┆           ┆ xác định │\n",
       "│           ┆           ┆           ┆ khuẩn     ┆   ┆           ┆ spandex   ┆           ┆          │\n",
       "│           ┆           ┆           ┆ ngắn A…   ┆   ┆           ┆           ┆           ┆          │\n",
       "│ 599900000 ┆ 745000.00 ┆ Ghế ngồi  ┆ ﻿﻿﻿﻿﻿﻿Ghế ăn    ┆ … ┆ Không xác ┆ Không xác ┆ 1         ┆ Chi tiết │\n",
       "│ 0001      ┆ 00        ┆ ăn        ┆ dặm điều  ┆   ┆ định      ┆ định      ┆           ┆ sản      │\n",
       "│           ┆           ┆ Mastela   ┆ chỉnh độ… ┆   ┆           ┆           ┆           ┆ phẩmTên  │\n",
       "│           ┆           ┆           ┆           ┆   ┆           ┆           ┆           ┆ sản      │\n",
       "│           ┆           ┆           ┆           ┆   ┆           ┆           ┆           ┆ phẩm:…   │\n",
       "└───────────┴───────────┴───────────┴───────────┴───┴───────────┴───────────┴───────────┴──────────┘"
      ]
     },
     "execution_count": 10,
     "metadata": {},
     "output_type": "execute_result"
    }
   ],
   "source": [
    "df_cleaned"
   ]
  },
  {
   "cell_type": "markdown",
   "id": "74896d19",
   "metadata": {},
   "source": [
    "# Task 2: Xử lý NULL, Xử lý Outlier"
   ]
  },
  {
   "cell_type": "code",
   "execution_count": null,
   "id": "09619790",
   "metadata": {},
   "outputs": [],
   "source": []
  },
  {
   "cell_type": "markdown",
   "id": "25600cbc",
   "metadata": {},
   "source": [
    "# Task 3: Phân tích tương đồng và xác định xem các thuộc tính tương tự nhau. Từ đó loại bỏ đặc trưng thừa."
   ]
  },
  {
   "cell_type": "code",
   "execution_count": null,
   "id": "4562aaef",
   "metadata": {},
   "outputs": [],
   "source": []
  },
  {
   "cell_type": "markdown",
   "id": "4a0a059f",
   "metadata": {},
   "source": [
    "# Task 4: Chuẩn hóa dữ liệu (nếu có), biến đổi dữ liệu"
   ]
  },
  {
   "cell_type": "code",
   "execution_count": null,
   "id": "7c68fa6c",
   "metadata": {},
   "outputs": [],
   "source": []
  },
  {
   "cell_type": "markdown",
   "id": "2bb9c311",
   "metadata": {},
   "source": [
    "# Task 5: Nhóm hãy suy nghĩ xem, với bài toán dự đoán mua hàng, ta có thể tạo mới những đặc trưng nào. Sau đó tiến hành rút trích thêm các đặc trưng. Task này rất quan trọng vì ảnh hưởng hiệu quả của hệ thống.\n",
    "\n"
   ]
  },
  {
   "cell_type": "code",
   "execution_count": null,
   "id": "a1ba5ba3",
   "metadata": {},
   "outputs": [],
   "source": []
  }
 ],
 "metadata": {
  "kernelspec": {
   "display_name": "CS116",
   "language": "python",
   "name": "python3"
  },
  "language_info": {
   "codemirror_mode": {
    "name": "ipython",
    "version": 3
   },
   "file_extension": ".py",
   "mimetype": "text/x-python",
   "name": "python",
   "nbconvert_exporter": "python",
   "pygments_lexer": "ipython3",
   "version": "3.12.11"
  }
 },
 "nbformat": 4,
 "nbformat_minor": 5
}
